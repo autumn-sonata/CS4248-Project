{
 "cells": [
  {
   "cell_type": "markdown",
   "metadata": {},
   "source": [
    "## Fake News Corpus\n",
    "### https://github.com/several27/FakeNewsCorpus/releases/tag/v1.0\n",
    "Mapping: (tag)  ->  label\n",
    "- (satire)      ->  1-\"Satire\"\n",
    "- (conspiracy)  ->  2-\"Hoax\"\n",
    "- (bias)        ->  3-\"Propaganda\"\n",
    "- (reliable)    ->  4-\"Reliable News\""
   ]
  },
  {
   "cell_type": "code",
   "execution_count": 4,
   "metadata": {},
   "outputs": [],
   "source": [
    "import sys\n",
    "import csv\n",
    "import pandas as pd\n",
    "\n",
    "from imblearn.under_sampling import RandomUnderSampler"
   ]
  },
  {
   "cell_type": "code",
   "execution_count": 2,
   "metadata": {},
   "outputs": [
    {
     "data": {
      "text/plain": [
       "131072"
      ]
     },
     "execution_count": 2,
     "metadata": {},
     "output_type": "execute_result"
    }
   ],
   "source": [
    "csv.field_size_limit(500000)"
   ]
  },
  {
   "cell_type": "code",
   "execution_count": 5,
   "metadata": {},
   "outputs": [],
   "source": [
    "CHUNK_SIZE = 10 ** 6"
   ]
  },
  {
   "cell_type": "code",
   "execution_count": 6,
   "metadata": {},
   "outputs": [
    {
     "name": "stderr",
     "output_type": "stream",
     "text": [
      "C:\\Users\\Hong\\AppData\\Local\\Temp\\ipykernel_38628\\3604349914.py:5: SettingWithCopyWarning: \n",
      "A value is trying to be set on a copy of a slice from a DataFrame.\n",
      "Try using .loc[row_indexer,col_indexer] = value instead\n",
      "\n",
      "See the caveats in the documentation: https://pandas.pydata.org/pandas-docs/stable/user_guide/indexing.html#returning-a-view-versus-a-copy\n",
      "  filtered['type'] = filtered['type'].map({'satire': 1, 'conspiracy': 2, 'bias': 3, 'reliable': 4})\n",
      "C:\\Users\\Hong\\AppData\\Local\\Temp\\ipykernel_38628\\3604349914.py:5: SettingWithCopyWarning: \n",
      "A value is trying to be set on a copy of a slice from a DataFrame.\n",
      "Try using .loc[row_indexer,col_indexer] = value instead\n",
      "\n",
      "See the caveats in the documentation: https://pandas.pydata.org/pandas-docs/stable/user_guide/indexing.html#returning-a-view-versus-a-copy\n",
      "  filtered['type'] = filtered['type'].map({'satire': 1, 'conspiracy': 2, 'bias': 3, 'reliable': 4})\n",
      "C:\\Users\\Hong\\AppData\\Local\\Temp\\ipykernel_38628\\3604349914.py:5: SettingWithCopyWarning: \n",
      "A value is trying to be set on a copy of a slice from a DataFrame.\n",
      "Try using .loc[row_indexer,col_indexer] = value instead\n",
      "\n",
      "See the caveats in the documentation: https://pandas.pydata.org/pandas-docs/stable/user_guide/indexing.html#returning-a-view-versus-a-copy\n",
      "  filtered['type'] = filtered['type'].map({'satire': 1, 'conspiracy': 2, 'bias': 3, 'reliable': 4})\n",
      "C:\\Users\\Hong\\AppData\\Local\\Temp\\ipykernel_38628\\3604349914.py:5: SettingWithCopyWarning: \n",
      "A value is trying to be set on a copy of a slice from a DataFrame.\n",
      "Try using .loc[row_indexer,col_indexer] = value instead\n",
      "\n",
      "See the caveats in the documentation: https://pandas.pydata.org/pandas-docs/stable/user_guide/indexing.html#returning-a-view-versus-a-copy\n",
      "  filtered['type'] = filtered['type'].map({'satire': 1, 'conspiracy': 2, 'bias': 3, 'reliable': 4})\n",
      "C:\\Users\\Hong\\AppData\\Local\\Temp\\ipykernel_38628\\3604349914.py:5: SettingWithCopyWarning: \n",
      "A value is trying to be set on a copy of a slice from a DataFrame.\n",
      "Try using .loc[row_indexer,col_indexer] = value instead\n",
      "\n",
      "See the caveats in the documentation: https://pandas.pydata.org/pandas-docs/stable/user_guide/indexing.html#returning-a-view-versus-a-copy\n",
      "  filtered['type'] = filtered['type'].map({'satire': 1, 'conspiracy': 2, 'bias': 3, 'reliable': 4})\n",
      "C:\\Users\\Hong\\AppData\\Local\\Temp\\ipykernel_38628\\3604349914.py:5: SettingWithCopyWarning: \n",
      "A value is trying to be set on a copy of a slice from a DataFrame.\n",
      "Try using .loc[row_indexer,col_indexer] = value instead\n",
      "\n",
      "See the caveats in the documentation: https://pandas.pydata.org/pandas-docs/stable/user_guide/indexing.html#returning-a-view-versus-a-copy\n",
      "  filtered['type'] = filtered['type'].map({'satire': 1, 'conspiracy': 2, 'bias': 3, 'reliable': 4})\n",
      "C:\\Users\\Hong\\AppData\\Local\\Temp\\ipykernel_38628\\3604349914.py:5: SettingWithCopyWarning: \n",
      "A value is trying to be set on a copy of a slice from a DataFrame.\n",
      "Try using .loc[row_indexer,col_indexer] = value instead\n",
      "\n",
      "See the caveats in the documentation: https://pandas.pydata.org/pandas-docs/stable/user_guide/indexing.html#returning-a-view-versus-a-copy\n",
      "  filtered['type'] = filtered['type'].map({'satire': 1, 'conspiracy': 2, 'bias': 3, 'reliable': 4})\n"
     ]
    }
   ],
   "source": [
    "with pd.read_csv('news_cleaned_2018_02_13.csv', chunksize=CHUNK_SIZE, index_col=\"id\", engine='python') as reader:\n",
    "    for chunk in reader:\n",
    "        type_content = chunk[['type', 'content']]\n",
    "        filtered = type_content[(type_content.type == 'satire') | (type_content.type == 'conspiracy') | (type_content.type == 'bias') | (type_content.type == 'reliable')]\n",
    "        filtered['type'] = filtered['type'].map({'satire': 1, 'conspiracy': 2, 'bias': 3, 'reliable': 4})\n",
    "        filtered.to_csv('fakenewscorpus.csv', mode='a', index=False, header=False)"
   ]
  },
  {
   "cell_type": "code",
   "execution_count": null,
   "metadata": {},
   "outputs": [],
   "source": [
    "df = pd.read_csv('fakenewscorpus.csv', header=None, index_col=False)"
   ]
  },
  {
   "cell_type": "code",
   "execution_count": 5,
   "metadata": {},
   "outputs": [
    {
     "name": "stdout",
     "output_type": "stream",
     "text": [
      "0    \\n\\n\\n\\n\\n\\n\\n\\nRev Dr. Childress is available...\n",
      "1    \\n\\nSpeaking Engagement Request\\n\\n\\n\\nContact...\n",
      "2    \"…I have set before you life and death, blessi...\n",
      "3    Why We Oppose Planned Parent Hood ( The follow...\n",
      "4    For as long as he can remember, Malcolm Turnbu...\n",
      "Name: 1, dtype: object\n",
      "0\n",
      "4    1913222\n",
      "3    1138998\n",
      "2     831235\n",
      "1     112948\n",
      "Name: count, dtype: int64\n"
     ]
    }
   ],
   "source": [
    "X = df.iloc[:, 1]\n",
    "y = df.iloc[:, 0]\n",
    "\n",
    "print(X.head())\n",
    "print(y.value_counts())"
   ]
  },
  {
   "cell_type": "code",
   "execution_count": 7,
   "metadata": {},
   "outputs": [],
   "source": [
    "rus = RandomUnderSampler(sampling_strategy={1: 15000, 2: 15000, 3: 15000, 4: 15000})\n",
    "X_undersampled, y_undersampled  = rus.fit_resample(X.to_frame(), y.to_frame())"
   ]
  },
  {
   "cell_type": "code",
   "execution_count": 8,
   "metadata": {},
   "outputs": [
    {
     "name": "stdout",
     "output_type": "stream",
     "text": [
      "                                                         1\n",
      "853618   Ein Ordner versucht, Klopp zu halten – vergebl...\n",
      "397186   Local\\n\\nArea Man Afraid Some Woman Might Come...\n",
      "1643627  As Spider-Man comics have always taught us, wi...\n",
      "393069   Swedish researchers have found that the brains...\n",
      "389510   Local\\n\\nArea Man Afraid Some Woman Might Come...\n",
      "0\n",
      "1    15000\n",
      "2    15000\n",
      "3    15000\n",
      "4    15000\n",
      "Name: count, dtype: int64\n"
     ]
    }
   ],
   "source": [
    "print(X_undersampled.head())\n",
    "print(y_undersampled.value_counts())"
   ]
  },
  {
   "cell_type": "code",
   "execution_count": 10,
   "metadata": {},
   "outputs": [],
   "source": [
    "df_undersampled = pd.concat([y_undersampled, X_undersampled], axis=1)"
   ]
  },
  {
   "cell_type": "code",
   "execution_count": 12,
   "metadata": {},
   "outputs": [
    {
     "name": "stdout",
     "output_type": "stream",
     "text": [
      "853618     Ein Ordner versucht, Klopp zu halten – vergebl...\n",
      "397186     Local\\n\\nArea Man Afraid Some Woman Might Come...\n",
      "1643627    As Spider-Man comics have always taught us, wi...\n",
      "393069     Swedish researchers have found that the brains...\n",
      "389510     Local\\n\\nArea Man Afraid Some Woman Might Come...\n",
      "Name: 1, dtype: object\n",
      "0\n",
      "1    15000\n",
      "2    15000\n",
      "3    15000\n",
      "4    15000\n",
      "Name: count, dtype: int64\n"
     ]
    }
   ],
   "source": [
    "X_undersampled = df_undersampled.iloc[:, 1]\n",
    "y_undersampled = df_undersampled.iloc[:, 0]\n",
    "\n",
    "print(X_undersampled.head())\n",
    "print(y_undersampled.value_counts())"
   ]
  },
  {
   "cell_type": "code",
   "execution_count": 13,
   "metadata": {},
   "outputs": [],
   "source": [
    "df_undersampled.to_csv('fakenewscorpus_balancedtest.csv', index=False, header=False)"
   ]
  },
  {
   "cell_type": "code",
   "execution_count": null,
   "metadata": {},
   "outputs": [],
   "source": []
  }
 ],
 "metadata": {
  "kernelspec": {
   "display_name": "Python 3",
   "language": "python",
   "name": "python3"
  },
  "language_info": {
   "codemirror_mode": {
    "name": "ipython",
    "version": 3
   },
   "file_extension": ".py",
   "mimetype": "text/x-python",
   "name": "python",
   "nbconvert_exporter": "python",
   "pygments_lexer": "ipython3",
   "version": "3.11.8"
  }
 },
 "nbformat": 4,
 "nbformat_minor": 2
}
