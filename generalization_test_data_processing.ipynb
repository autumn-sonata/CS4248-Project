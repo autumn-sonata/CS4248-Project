{
 "cells": [
  {
   "cell_type": "markdown",
   "metadata": {},
   "source": [
    "## Fake News Corpus\n",
    "### https://github.com/several27/FakeNewsCorpus/releases/tag/v1.0\n",
    "Mapping: (tag)  ->  label\n",
    "- (satire)      ->  1-\"Satire\"\n",
    "- (conspiracy)  ->  2-\"Hoax\"\n",
    "- (bias)        ->  3-\"Propaganda\"\n",
    "- (reliable)    ->  4-\"Reliable News\""
   ]
  },
  {
   "cell_type": "code",
   "execution_count": 1,
   "metadata": {},
   "outputs": [],
   "source": [
    "import sys\n",
    "import csv\n",
    "import pandas as pd"
   ]
  },
  {
   "cell_type": "code",
   "execution_count": 4,
   "metadata": {},
   "outputs": [
    {
     "data": {
      "text/plain": [
       "500000"
      ]
     },
     "execution_count": 4,
     "metadata": {},
     "output_type": "execute_result"
    }
   ],
   "source": [
    "csv.field_size_limit(500000)"
   ]
  },
  {
   "cell_type": "code",
   "execution_count": 5,
   "metadata": {},
   "outputs": [],
   "source": [
    "CHUNK_SIZE = 10 ** 6"
   ]
  },
  {
   "cell_type": "code",
   "execution_count": 6,
   "metadata": {},
   "outputs": [
    {
     "name": "stderr",
     "output_type": "stream",
     "text": [
      "C:\\Users\\Hong\\AppData\\Local\\Temp\\ipykernel_38628\\3604349914.py:5: SettingWithCopyWarning: \n",
      "A value is trying to be set on a copy of a slice from a DataFrame.\n",
      "Try using .loc[row_indexer,col_indexer] = value instead\n",
      "\n",
      "See the caveats in the documentation: https://pandas.pydata.org/pandas-docs/stable/user_guide/indexing.html#returning-a-view-versus-a-copy\n",
      "  filtered['type'] = filtered['type'].map({'satire': 1, 'conspiracy': 2, 'bias': 3, 'reliable': 4})\n",
      "C:\\Users\\Hong\\AppData\\Local\\Temp\\ipykernel_38628\\3604349914.py:5: SettingWithCopyWarning: \n",
      "A value is trying to be set on a copy of a slice from a DataFrame.\n",
      "Try using .loc[row_indexer,col_indexer] = value instead\n",
      "\n",
      "See the caveats in the documentation: https://pandas.pydata.org/pandas-docs/stable/user_guide/indexing.html#returning-a-view-versus-a-copy\n",
      "  filtered['type'] = filtered['type'].map({'satire': 1, 'conspiracy': 2, 'bias': 3, 'reliable': 4})\n",
      "C:\\Users\\Hong\\AppData\\Local\\Temp\\ipykernel_38628\\3604349914.py:5: SettingWithCopyWarning: \n",
      "A value is trying to be set on a copy of a slice from a DataFrame.\n",
      "Try using .loc[row_indexer,col_indexer] = value instead\n",
      "\n",
      "See the caveats in the documentation: https://pandas.pydata.org/pandas-docs/stable/user_guide/indexing.html#returning-a-view-versus-a-copy\n",
      "  filtered['type'] = filtered['type'].map({'satire': 1, 'conspiracy': 2, 'bias': 3, 'reliable': 4})\n",
      "C:\\Users\\Hong\\AppData\\Local\\Temp\\ipykernel_38628\\3604349914.py:5: SettingWithCopyWarning: \n",
      "A value is trying to be set on a copy of a slice from a DataFrame.\n",
      "Try using .loc[row_indexer,col_indexer] = value instead\n",
      "\n",
      "See the caveats in the documentation: https://pandas.pydata.org/pandas-docs/stable/user_guide/indexing.html#returning-a-view-versus-a-copy\n",
      "  filtered['type'] = filtered['type'].map({'satire': 1, 'conspiracy': 2, 'bias': 3, 'reliable': 4})\n",
      "C:\\Users\\Hong\\AppData\\Local\\Temp\\ipykernel_38628\\3604349914.py:5: SettingWithCopyWarning: \n",
      "A value is trying to be set on a copy of a slice from a DataFrame.\n",
      "Try using .loc[row_indexer,col_indexer] = value instead\n",
      "\n",
      "See the caveats in the documentation: https://pandas.pydata.org/pandas-docs/stable/user_guide/indexing.html#returning-a-view-versus-a-copy\n",
      "  filtered['type'] = filtered['type'].map({'satire': 1, 'conspiracy': 2, 'bias': 3, 'reliable': 4})\n",
      "C:\\Users\\Hong\\AppData\\Local\\Temp\\ipykernel_38628\\3604349914.py:5: SettingWithCopyWarning: \n",
      "A value is trying to be set on a copy of a slice from a DataFrame.\n",
      "Try using .loc[row_indexer,col_indexer] = value instead\n",
      "\n",
      "See the caveats in the documentation: https://pandas.pydata.org/pandas-docs/stable/user_guide/indexing.html#returning-a-view-versus-a-copy\n",
      "  filtered['type'] = filtered['type'].map({'satire': 1, 'conspiracy': 2, 'bias': 3, 'reliable': 4})\n",
      "C:\\Users\\Hong\\AppData\\Local\\Temp\\ipykernel_38628\\3604349914.py:5: SettingWithCopyWarning: \n",
      "A value is trying to be set on a copy of a slice from a DataFrame.\n",
      "Try using .loc[row_indexer,col_indexer] = value instead\n",
      "\n",
      "See the caveats in the documentation: https://pandas.pydata.org/pandas-docs/stable/user_guide/indexing.html#returning-a-view-versus-a-copy\n",
      "  filtered['type'] = filtered['type'].map({'satire': 1, 'conspiracy': 2, 'bias': 3, 'reliable': 4})\n"
     ]
    }
   ],
   "source": [
    "with pd.read_csv('news_cleaned_2018_02_13.csv', chunksize=CHUNK_SIZE, index_col=\"id\", engine='python') as reader:\n",
    "    for chunk in reader:\n",
    "        type_content = chunk[['type', 'content']]\n",
    "        filtered = type_content[(type_content.type == 'satire') | (type_content.type == 'conspiracy') | (type_content.type == 'bias') | (type_content.type == 'reliable')]\n",
    "        filtered['type'] = filtered['type'].map({'satire': 1, 'conspiracy': 2, 'bias': 3, 'reliable': 4})\n",
    "        filtered.to_csv('fakenewscorpus.csv', mode='a', index=False, header=False)"
   ]
  },
  {
   "cell_type": "code",
   "execution_count": 7,
   "metadata": {},
   "outputs": [
    {
     "data": {
      "text/plain": [
       "0\n",
       "4    1913222\n",
       "3    1138998\n",
       "2     831235\n",
       "1     112948\n",
       "Name: count, dtype: int64"
      ]
     },
     "execution_count": 7,
     "metadata": {},
     "output_type": "execute_result"
    }
   ],
   "source": [
    "df = pd.read_csv('fakenewscorpus.csv', header=None, index_col=False)\n",
    "y = df.iloc[:, 0]\n",
    "y.value_counts()"
   ]
  },
  {
   "cell_type": "code",
   "execution_count": null,
   "metadata": {},
   "outputs": [],
   "source": []
  }
 ],
 "metadata": {
  "kernelspec": {
   "display_name": "Python 3",
   "language": "python",
   "name": "python3"
  },
  "language_info": {
   "codemirror_mode": {
    "name": "ipython",
    "version": 3
   },
   "file_extension": ".py",
   "mimetype": "text/x-python",
   "name": "python",
   "nbconvert_exporter": "python",
   "pygments_lexer": "ipython3",
   "version": "3.11.8"
  }
 },
 "nbformat": 4,
 "nbformat_minor": 2
}
