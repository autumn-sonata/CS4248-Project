{
 "cells": [
  {
   "cell_type": "markdown",
   "id": "71c7e43e",
   "metadata": {},
   "source": [
    "## Setup"
   ]
  },
  {
   "cell_type": "code",
   "execution_count": 395,
   "id": "d5116044",
   "metadata": {},
   "outputs": [],
   "source": [
    "# RUN SETUP.SH BEFORE RUNNING THIS IPYNB\n",
    "# REQUIREMENTS FOR SETUP.SH:\n",
    "# python 3.11.8\n",
    "# pip 23.3.1\n",
    "\n",
    "import pandas as pd\n",
    "import pickle\n",
    "from sklearn.metrics import f1_score, precision_recall_fscore_support, accuracy_score\n",
    "from sklearn.naive_bayes import MultinomialNB # Naive Bayes Classifier\n",
    "from sklearn.linear_model import LogisticRegression # Logistic Regression Classifier\n",
    "from sklearn.ensemble import VotingClassifier, RandomForestClassifier\n",
    "from sklearn.model_selection import GridSearchCV\n",
    "from sklearn.model_selection import train_test_split\n",
    "from sklearn.pipeline import Pipeline\n",
    "from sklearn.feature_extraction.text import CountVectorizer\n",
    "from sklearn.feature_extraction.text import TfidfVectorizer\n",
    "from imblearn.over_sampling import ADASYN, RandomOverSampler\n",
    "from scipy.sparse import hstack, csr_matrix, save_npz, load_npz\n",
    "import spacy\n",
    "import re\n",
    "import numpy as np\n",
    "from spacytextblob.spacytextblob import SpacyTextBlob\n",
    "import matplotlib.pyplot as plt\n",
    "from sklearn.feature_selection import SelectPercentile, SelectKBest, f_classif, mutual_info_classif\n",
    "import nltk\n",
    "from readability import Readability\n",
    "from sklearn.preprocessing import StandardScaler, MinMaxScaler, MaxAbsScaler\n",
    "from collections import Counter\n",
    "from sklearn.metrics.pairwise import pairwise_distances\n",
    "import csv"
   ]
  },
  {
   "cell_type": "code",
   "execution_count": 396,
   "id": "b81c927f",
   "metadata": {},
   "outputs": [],
   "source": [
    "SEED = 42 # seed random state for comparison, testing\n",
    "PARTITION_SIZE = 500 # Adjust lower if potato PC and higher if gaming rig or want results closer to actual\n",
    "enable_all_data = True # SET TO FALSE IF PREPROCESSING TAKES A LONG TIME (True = test on PARTITION_SIZE training and PARTITION_SIZE testing samples)\n",
    "enable_preprocessed_from_savefile = True # includes NER masking if uncommented\n",
    "enable_features_from_savefile = False\n",
    "enable_validation_data = False \n",
    "enable_model_from_savefile = False\n",
    "use_external_dataset = True\n",
    "\n",
    "# Improvements to model\n",
    "enable_synonym_masking = False\n",
    "enable_rejection_classification = False"
   ]
  },
  {
   "cell_type": "markdown",
   "id": "c4f33710",
   "metadata": {},
   "source": [
    "## Pre-processing"
   ]
  },
  {
   "cell_type": "code",
   "execution_count": 397,
   "id": "0a8090b1",
   "metadata": {},
   "outputs": [],
   "source": [
    "if not enable_synonym_masking:\n",
    "    df = pd.read_csv('../raw_data/fulltrain.csv', header=None, index_col = False)\n",
    "else:\n",
    "    df = pd.read_csv('../synonym-creation/synonym_augmented_train.csv', header=None, index_col = False)\n",
    "    \n",
    "# df.head()"
   ]
  },
  {
   "cell_type": "code",
   "execution_count": 398,
   "id": "641253f7",
   "metadata": {},
   "outputs": [],
   "source": [
    "df = df if enable_all_data else df.sample(n=PARTITION_SIZE, random_state=SEED)\n",
    "\n",
    "X_train = df.iloc[:, 1] \n",
    "y_train = df.iloc[:, 0]\n",
    "X_train_unprocessed = X_train\n",
    "# print(X_train)\n",
    "# print(y_train)\n",
    "\n",
    "# print(len(X_train))\n",
    "# print(len(y_train))\n",
    "\n",
    "# y_train.value_counts()"
   ]
  },
  {
   "cell_type": "code",
   "execution_count": 399,
   "id": "9285af76",
   "metadata": {},
   "outputs": [
    {
     "data": {
      "text/plain": [
       "<spacytextblob.spacytextblob.SpacyTextBlob at 0x3871a3d50>"
      ]
     },
     "execution_count": 399,
     "metadata": {},
     "output_type": "execute_result"
    }
   ],
   "source": [
    "# Processing data: tokenize the text for NLP Machine Learning\n",
    "spacy_model = spacy.load(\"en_core_web_lg\")\n",
    "spacy_model.add_pipe('spacytextblob')"
   ]
  },
  {
   "cell_type": "code",
   "execution_count": 400,
   "id": "5945f38f",
   "metadata": {},
   "outputs": [],
   "source": [
    "# Processing data: tokenize the text for NLP Machine Learning\n",
    "# Case-folding (lowercase), Stopword removal, Punctuation removal\n",
    "\n",
    "def preprocess(sentence):\n",
    "    '''\n",
    "    Preprocessing strategies:\n",
    "    1) Tokenization\n",
    "    2) Punctuation removal\n",
    "    3) Stopword removal\n",
    "    4) Lowercase\n",
    "    '''\n",
    "    tokens = spacy_model(sentence)\n",
    "    ls_sentence = [token.text.lower() for token in tokens if not token.is_punct and not token.is_stop]\n",
    "    return ls_sentence"
   ]
  },
  {
   "cell_type": "code",
   "execution_count": 401,
   "id": "fab5c4cc",
   "metadata": {},
   "outputs": [],
   "source": [
    "def NER_masking_preprocessing(sentence):\n",
    "    document = spacy_model(sentence)\n",
    "    sentence = document.text\n",
    "    for word in document.ents:\n",
    "        sentence = re.sub(re.escape(word.text), f\"<{word.label_}>\", sentence)\n",
    "    return sentence"
   ]
  },
  {
   "cell_type": "markdown",
   "id": "e8cae0dd",
   "metadata": {},
   "source": [
    "### Save or load preprocessed data"
   ]
  },
  {
   "cell_type": "code",
   "execution_count": 402,
   "id": "510d61a9",
   "metadata": {},
   "outputs": [],
   "source": [
    "# To be used by features for feature extraction:\n",
    "if not enable_preprocessed_from_savefile:\n",
    "    X_train_ls = X_train.apply(preprocess)\n",
    "    X_train = X_train_ls.apply(lambda sentence: ' '.join(sentence))\n",
    "    # X_train = X_train.apply(NER_masking_preprocessing) # Comment if not using NER masking\n",
    "    # Save pre-processed data\n",
    "    if enable_synonym_masking:\n",
    "        compression_opts = dict(method='zip', archive_name='strip_punct_stop_lower_synonym.csv')\n",
    "        X_train.to_csv('strip_punct_stop_lower_synonym.zip', index=False, compression=compression_opts)\n",
    "    else:\n",
    "        compression_opts = dict(method='zip', archive_name='strip_punct_stop_lower.csv')\n",
    "        X_train.to_csv('strip_punct_stop_lower.zip', index=False, compression=compression_opts)\n",
    "else:\n",
    "    # quickload pre-processed data\n",
    "    # replace 'raw_data/*.csv' with .csv file containing preprocessed data\n",
    "    if enable_synonym_masking:\n",
    "        X_train = pd.read_csv('strip_punct_stop_lower_synonym.csv', index_col=False).iloc[:, 0]\n",
    "    else:\n",
    "        X_train = pd.read_csv('strip_punct_stop_lower.csv', index_col=False).iloc[:, 0]\n",
    "    # X_train.head()"
   ]
  },
  {
   "cell_type": "markdown",
   "id": "704b2070",
   "metadata": {},
   "source": [
    "### Train-Validation Split"
   ]
  },
  {
   "cell_type": "code",
   "execution_count": 403,
   "id": "8b08f33c",
   "metadata": {},
   "outputs": [],
   "source": [
    "if enable_validation_data:\n",
    "    X_train_unprocessed, X_val_unprocessed, _, _ = train_test_split(X_train_unprocessed, y_train, test_size=0.2, random_state=SEED)\n",
    "    X_train, X_val, y_train, y_val = train_test_split(X_train, y_train, test_size=0.2, random_state=SEED)"
   ]
  },
  {
   "cell_type": "markdown",
   "id": "6c04d7d4",
   "metadata": {},
   "source": [
    "### Feature analysis"
   ]
  },
  {
   "cell_type": "code",
   "execution_count": 404,
   "id": "e6bd00ca",
   "metadata": {},
   "outputs": [],
   "source": [
    "def count_analysis_bar(X, y, feature_name):\n",
    "    unique_y = np.unique(y)\n",
    "    fig, axs = plt.subplots(len(unique_y), 1, figsize=(8, len(unique_y) * 4))\n",
    "    for i in unique_y:\n",
    "        indices = np.where(y == i)[0]\n",
    "        counts_i = X[indices]\n",
    "        unique_vals, counts = np.unique(counts_i, return_counts=True)\n",
    "        axs[i-1].bar(unique_vals, counts)\n",
    "        axs[i-1].set_xlabel(f'{feature_name}')\n",
    "        axs[i-1].set_ylabel(f'Frequency of {feature_name}')\n",
    "        axs[i-1].set_title(f'Distribution of {feature_name} for class {i}')\n",
    "\n",
    "    plt.tight_layout()\n",
    "    plt.savefig(f'../plots/{feature_name}_analysis_plot.png')\n",
    "\n",
    "def count_analysis_scatter(X, y, feature_name):\n",
    "    unique_y = np.unique(y)\n",
    "    fig, axs = plt.subplots(len(unique_y), 1, figsize=(8, len(unique_y) * 4))\n",
    "    for i in unique_y:\n",
    "        indices = np.where(y == i)[0]\n",
    "        counts_i = X[indices]\n",
    "        unique_vals, counts = np.unique(counts_i, return_counts=True)\n",
    "        axs[i-1].scatter(unique_vals, counts)\n",
    "        axs[i-1].set_xlabel(f'{feature_name}')\n",
    "        axs[i-1].set_ylabel(f'Frequency of {feature_name}')\n",
    "        axs[i-1].set_title(f'Distribution of {feature_name} for class {i}')\n",
    "\n",
    "    plt.tight_layout()\n",
    "    plt.savefig(f'../plots/{feature_name}_analysis_plot.png')\n",
    "\n",
    "def count_analysis_boxplot(X, y, feature_name):\n",
    "    unique_y = np.unique(y)\n",
    "    fig, axs = plt.subplots(len(unique_y), 1, figsize=(8, len(unique_y) * 4))\n",
    "    for i in unique_y:\n",
    "        indices = np.where(y == i)[0]\n",
    "        counts_i = X[indices]\n",
    "        unique_vals = np.unique(counts_i)\n",
    "        axs[i-1].boxplot(unique_vals)\n",
    "        axs[i-1].set_title(f'Distribution of {feature_name} for class {i}')\n",
    "\n",
    "    plt.tight_layout()\n",
    "    plt.savefig(f'../plots/{feature_name}_analysis_plot.png')"
   ]
  },
  {
   "cell_type": "markdown",
   "id": "a07ca07b",
   "metadata": {},
   "source": [
    "### Feature Engineering"
   ]
  },
  {
   "cell_type": "code",
   "execution_count": 405,
   "id": "c3095317",
   "metadata": {},
   "outputs": [],
   "source": [
    "# Feature set:\n",
    "# 1) TF-IDF, 2)TF\n",
    "tfidf_vectorizer = TfidfVectorizer(ngram_range=(1, 2), sublinear_tf=True)\n",
    "X_train_tfidf = tfidf_vectorizer.fit_transform(X_train)\n",
    "tf_vectorizer = CountVectorizer(ngram_range=(1, 2))\n",
    "X_train_tf = tf_vectorizer.fit_transform(X_train)"
   ]
  },
  {
   "cell_type": "code",
   "execution_count": 406,
   "id": "64fdafb8",
   "metadata": {},
   "outputs": [],
   "source": [
    "# 3) Summation of word2vec on top k words tf-idf per sentence\n",
    "k = 5\n",
    "tfidf_vectorizer_word2vec = TfidfVectorizer(sublinear_tf=True)\n",
    "tfidf_word2vec = tfidf_vectorizer_word2vec.fit_transform(X_train)\n",
    "non_zero_counts = tfidf_word2vec.getnnz(axis=1)\n",
    "\n",
    "def word2vec_select_k_best_sum(matrix, non_zero_counts):\n",
    "    res = None\n",
    "    for row in range(matrix.shape[0]):\n",
    "        # Get indexes of words\n",
    "        num_words = min(k, non_zero_counts[row])\n",
    "        row_val_idxs = matrix[row].indices\n",
    "        top_k_idx = np.argpartition(matrix[row].data, -num_words)[-num_words:]\n",
    "        indexes = row_val_idxs[top_k_idx]\n",
    "        \n",
    "        # Get words\n",
    "        words = tfidf_vectorizer_word2vec.get_feature_names_out()[indexes]\n",
    "\n",
    "        # Get summation of word vectors\n",
    "        summation_vector = np.sum(np.array([spacy_model(word).vector for word in words]), axis=0)\n",
    "        if res is None:\n",
    "            res = np.zeros([matrix.shape[0], summation_vector.shape[0]])\n",
    "        res[row] = summation_vector\n",
    "\n",
    "    return res\n",
    "\n",
    "if not enable_features_from_savefile:\n",
    "    X_train_word2vec = word2vec_select_k_best_sum(tfidf_word2vec, non_zero_counts)"
   ]
  },
  {
   "cell_type": "code",
   "execution_count": null,
   "id": "a7698f55",
   "metadata": {},
   "outputs": [],
   "source": [
    "# 4) Flesch Kincaid reading ease\n",
    "def flesch_kincaid(sentence):\n",
    "    if len(sentence.split()) <= 115:\n",
    "        return 65 # Standard average value for Flesch Kincaid reading ease score \n",
    "    return Readability(sentence).flesch().score\n",
    "\n",
    "if not enable_features_from_savefile:\n",
    "    X_train_flesch = X_train_unprocessed.apply(flesch_kincaid).to_numpy().reshape(-1, 1)\n",
    "    # count_analysis_boxplot(X_train_flesch, y_train, \"flesch_kincaid\")"
   ]
  },
  {
   "cell_type": "code",
   "execution_count": null,
   "id": "0156ef0b",
   "metadata": {},
   "outputs": [],
   "source": [
    "# 5) Verb counting\n",
    "def count_verbs(sentences, verb_tags=['VBZ', 'VBP', 'VBN', 'VBG', 'VBD', 'VB']):\n",
    "    res = np.zeros((len(sentences), len(verb_tags)))\n",
    "    row = 0\n",
    "    for sentence in sentences:\n",
    "        tags = nltk.pos_tag(nltk.word_tokenize(sentence))\n",
    "        d = Counter(map(lambda tup: tup[1], filter(lambda tup: tup[1] in verb_tags, tags)))\n",
    "        for tag in verb_tags:\n",
    "            if tag not in d:\n",
    "                d[tag] = 0\n",
    "\n",
    "        verb_counts = np.array(list(map(lambda tup: tup[1], sorted(d.items(), key=lambda tup: tup[0])))) # Sort by tag, get counts\n",
    "        res[row] = verb_counts\n",
    "        row += 1\n",
    "    return res\n",
    "\n",
    "if not enable_features_from_savefile:\n",
    "    X_train_count_verbs = count_verbs(X_train)\n",
    "    # count_analysis_bar(X_train_count_verbs, y_train, \"verb_count\")"
   ]
  },
  {
   "cell_type": "code",
   "execution_count": null,
   "id": "62b5e158",
   "metadata": {},
   "outputs": [],
   "source": [
    "# 6) Sentiment analysis\n",
    "def sentiment_analysis(sentence):\n",
    "    return spacy_model(sentence).sentiment\n",
    "\n",
    "if not enable_features_from_savefile:\n",
    "    X_train_sent_ana = X_train_unprocessed.apply(sentiment_analysis).to_numpy().reshape(-1, 1)"
   ]
  },
  {
   "cell_type": "code",
   "execution_count": null,
   "id": "ff0f8f1b",
   "metadata": {},
   "outputs": [],
   "source": [
    "# Consolidation of feature sets into single vector:\n",
    "X_train_filename = \"tfidf-tf-word2vec-flesch-verb-sentiment\"\n",
    "if enable_features_from_savefile:\n",
    "    # Load features as sparse matrix (Download file from Google Drive)\n",
    "    if enable_synonym_masking:\n",
    "        X_train = load_npz(f\"{X_train_filename}-synonym.npz\")\n",
    "    else:\n",
    "        X_train = load_npz(f\"{X_train_filename}.npz\")\n",
    "else:\n",
    "    X_train = hstack([X_train_tfidf, X_train_tf, X_train_word2vec, X_train_flesch, X_train_count_verbs, X_train_sent_ana])\n",
    "    if enable_synonym_masking:\n",
    "        save_npz(f\"{X_train_filename}-synonym.npz\", X_train)\n",
    "    else:\n",
    "        save_npz(f\"{X_train_filename}.npz\", X_train)"
   ]
  },
  {
   "cell_type": "markdown",
   "id": "f945981a",
   "metadata": {},
   "source": [
    "### Scaler"
   ]
  },
  {
   "cell_type": "code",
   "execution_count": null,
   "id": "16011090",
   "metadata": {},
   "outputs": [],
   "source": [
    "scaler = MaxAbsScaler() # Sparse matrix\n",
    "X_train = scaler.fit_transform(X_train)"
   ]
  },
  {
   "cell_type": "markdown",
   "id": "a92f0f9a",
   "metadata": {},
   "source": [
    "### Feature selection: SelectPercentile"
   ]
  },
  {
   "cell_type": "code",
   "execution_count": null,
   "id": "10c7dfae",
   "metadata": {},
   "outputs": [
    {
     "name": "stderr",
     "output_type": "stream",
     "text": [
      "/Users/asonata/anaconda3/envs/cs4248-project/lib/python3.11/site-packages/sklearn/feature_selection/_univariate_selection.py:112: UserWarning: Features [0] are constant.\n",
      "  warnings.warn(\"Features %s are constant.\" % constant_features_idx, UserWarning)\n",
      "/Users/asonata/anaconda3/envs/cs4248-project/lib/python3.11/site-packages/sklearn/feature_selection/_univariate_selection.py:113: RuntimeWarning: invalid value encountered in divide\n",
      "  f = msb / msw\n"
     ]
    }
   ],
   "source": [
    "# Get features by score\n",
    "feature_selector = SelectPercentile()\n",
    "X_train = feature_selector.fit_transform(X_train, y_train)"
   ]
  },
  {
   "cell_type": "markdown",
   "id": "02ce5211",
   "metadata": {},
   "source": [
    "### Oversampling"
   ]
  },
  {
   "cell_type": "code",
   "execution_count": null,
   "id": "73ebb76c",
   "metadata": {},
   "outputs": [],
   "source": [
    "# ADASYN \n",
    "sampler = ADASYN(sampling_strategy='minority', random_state=SEED)\n",
    "X_train, y_train = sampler.fit_resample(X_train, y_train)"
   ]
  },
  {
   "cell_type": "markdown",
   "id": "83844d2d",
   "metadata": {},
   "source": [
    "## Models"
   ]
  },
  {
   "cell_type": "markdown",
   "id": "3b89589e",
   "metadata": {},
   "source": [
    "### Logistic Regression Model [LogisticRegression]"
   ]
  },
  {
   "cell_type": "code",
   "execution_count": null,
   "id": "e4879294",
   "metadata": {},
   "outputs": [],
   "source": [
    "model_path = 'LogisticRegression-full-feature-set.pkl'\n",
    "if not enable_model_from_savefile:\n",
    "    model = LogisticRegression(solver = 'saga', max_iter=4000, random_state=SEED).fit(X_train, y_train)\n",
    "    # Save model\n",
    "    with open(model_path, 'wb') as f:\n",
    "        pickle.dump(model, f)\n",
    "else:\n",
    "    # Load model\n",
    "    with open(model_path, 'rb') as f:\n",
    "        model = pickle.load(f)"
   ]
  },
  {
   "cell_type": "markdown",
   "id": "4ac9bd3c",
   "metadata": {},
   "source": [
    "## Validation"
   ]
  },
  {
   "cell_type": "code",
   "execution_count": null,
   "id": "b4ae2fd2",
   "metadata": {},
   "outputs": [],
   "source": [
    "# Apply feature engineering on X_val \n",
    "if enable_validation_data:\n",
    "    val_tfidf_word2vec = tfidf_vectorizer_word2vec.transform(X_val)\n",
    "    non_zero_counts = val_tfidf_word2vec.getnnz(axis=1)\n",
    "\n",
    "    X_val_tfidf = tfidf_vectorizer.transform(X_val)\n",
    "    X_val_tf = tf_vectorizer.transform(X_val)\n",
    "    X_val_word2vec = word2vec_select_k_best_sum(val_tfidf_word2vec, non_zero_counts)\n",
    "    X_val_flesch = X_val_unprocessed.apply(flesch_kincaid).to_numpy().reshape(-1, 1)\n",
    "    X_val_count_verbs = count_verbs(X_val)\n",
    "    X_val_sent_ana = X_val_unprocessed.apply(sentiment_analysis).to_numpy().reshape(-1, 1)"
   ]
  },
  {
   "cell_type": "code",
   "execution_count": null,
   "id": "d1e6b93d",
   "metadata": {},
   "outputs": [],
   "source": [
    "# Consolidation of feature sets:\n",
    "if enable_validation_data:\n",
    "    X_val_final = hstack([X_val_tfidf, X_val_tf, X_val_word2vec, X_val_flesch, X_val_count_verbs, X_val_sent_ana])\n",
    "    X_val_final = scaler.transform(X_val_final)\n",
    "    X_val_final = feature_selector.transform(X_val_final)"
   ]
  },
  {
   "cell_type": "code",
   "execution_count": null,
   "id": "8fe0b24e",
   "metadata": {},
   "outputs": [],
   "source": [
    "# # obtain predictions on validation data\n",
    "if enable_validation_data:\n",
    "    y_val_predicted = model.predict(X_val_final)\n",
    "\n",
    "    # evaluate model training metrics with macro f1 score\n",
    "    f1_score(y_val, y_val_predicted, average='macro')"
   ]
  },
  {
   "cell_type": "markdown",
   "id": "db8997e6",
   "metadata": {},
   "source": [
    "## Test Data"
   ]
  },
  {
   "cell_type": "code",
   "execution_count": null,
   "id": "47293816",
   "metadata": {},
   "outputs": [
    {
     "name": "stdout",
     "output_type": "stream",
     "text": [
      "   0                                                  1\n",
      "0  1  <ORG> boss refreshingly open about it\\n\\nLOCAL...\n",
      "1  1  \"Hazing is an important part of joining any ex...\n",
      "2  1  A former #doctor with the #<GPE>-Lebanon #Hosp...\n",
      "3  1  Pop music sensation, #<PERSON>, <DATE>, has ha...\n",
      "4  1  DISAPPOINTED <PERSON> fans have been asked to ...\n"
     ]
    }
   ],
   "source": [
    "# TEST DATA \n",
    "if use_external_dataset:\n",
    "    test_df = pd.read_csv('../external-dataset/opensources_fakenewscorpus_modified_undersampled.csv', index_col = False)\n",
    "else:\n",
    "    test_df = pd.read_csv('../raw_data/balancedtest.csv', index_col = False)\n",
    "    test_df = test_df if enable_all_data else test_df.sample(PARTITION_SIZE, random_state=SEED)\n",
    "    # test_df = pd.read_csv('../NER-masking/NER_masked_test.csv', index_col = False)\n",
    "\n",
    "# print(test_df)\n",
    "print(test_df.head())"
   ]
  },
  {
   "cell_type": "code",
   "execution_count": null,
   "id": "bd783554",
   "metadata": {},
   "outputs": [],
   "source": [
    "X_test = test_df.iloc[:, 1]\n",
    "y_test = test_df.iloc[:, 0]\n",
    "\n",
    "# print(X_test.head())\n",
    "# print(y_test.head())"
   ]
  },
  {
   "cell_type": "code",
   "execution_count": null,
   "id": "337bcfb0",
   "metadata": {},
   "outputs": [],
   "source": [
    "# Preprocess test data to match steps on training data\n",
    "X_test_unprocessed = X_test\n",
    "X_test_ls = X_test.apply(preprocess)\n",
    "X_test = X_test_ls.apply(lambda sentence: ' '.join(sentence))\n",
    "\n",
    "# X_test = X_test.apply(NER_masking_preprocessing) # Comment if not using NER masking"
   ]
  },
  {
   "cell_type": "markdown",
   "id": "0863f80a",
   "metadata": {},
   "source": [
    "### Feature Engineering (Test Data)"
   ]
  },
  {
   "cell_type": "code",
   "execution_count": null,
   "id": "9d0afa06",
   "metadata": {},
   "outputs": [],
   "source": [
    "# Apply feature engineering on X_test\n",
    "test_tfidf_word2vec = tfidf_vectorizer_word2vec.transform(X_test)\n",
    "non_zero_counts = test_tfidf_word2vec.getnnz(axis=1)\n",
    "\n",
    "X_test_tfidf = tfidf_vectorizer.transform(X_test)\n",
    "X_test_tf = tf_vectorizer.transform(X_test)\n",
    "X_test_word2vec = word2vec_select_k_best_sum(test_tfidf_word2vec, non_zero_counts)\n",
    "X_test_flesch = X_test_unprocessed.apply(flesch_kincaid).to_numpy().reshape(-1, 1)\n",
    "X_test_count_verbs = count_verbs(X_test)\n",
    "X_test_sent_ana = X_test_unprocessed.apply(sentiment_analysis).to_numpy().reshape(-1, 1)"
   ]
  },
  {
   "cell_type": "code",
   "execution_count": null,
   "id": "891b1b5c",
   "metadata": {},
   "outputs": [
    {
     "name": "stdout",
     "output_type": "stream",
     "text": [
      "(14000, 11355490)\n"
     ]
    }
   ],
   "source": [
    "# Consolidation of feature transformations into single vector\n",
    "X_test_final = hstack([X_test_tfidf, X_test_tf, X_test_word2vec, X_test_flesch, X_test_count_verbs, X_test_sent_ana])\n",
    "print(X_test_final.shape)\n",
    "X_test_final = scaler.transform(X_test_final)\n",
    "X_test_final = feature_selector.transform(X_test_final)"
   ]
  },
  {
   "cell_type": "markdown",
   "id": "aa1dfc81",
   "metadata": {},
   "source": [
    "### Metrics"
   ]
  },
  {
   "cell_type": "markdown",
   "id": "1da5c93f",
   "metadata": {},
   "source": [
    "#### Accuracy, precision, recall, F1"
   ]
  },
  {
   "cell_type": "code",
   "execution_count": null,
   "id": "e8f9170c",
   "metadata": {},
   "outputs": [],
   "source": [
    "# obtain predictions on test data\n",
    "y_pred = model.predict(X_test_final)\n",
    "\n",
    "# evaluate model training metrics with macro f1 score\n",
    "test_precision, test_recall, test_f1, _ = precision_recall_fscore_support(y_test, y_pred, average='macro')\n",
    "test_accuracy = accuracy_score(y_test, y_pred)"
   ]
  },
  {
   "cell_type": "code",
   "execution_count": null,
   "id": "56999da9",
   "metadata": {},
   "outputs": [
    {
     "name": "stdout",
     "output_type": "stream",
     "text": [
      "Test Accuracy: 0.48335714,\tTest Precision: 0.41974281,\tTest Recall: 0.48335714,\tTest F1: 0.42831478\n",
      "Class 0:\tTest Precision: 0.57622951,\tTest Recall: 0.60257143,\tTest f1: 0.58910615\n",
      "Class 1:\tTest Precision: 0.16666667,\tTest Recall: 0.01971429,\tTest f1: 0.03525805\n",
      "Class 2:\tTest Precision: 0.41755656,\tTest Recall: 0.65914286,\tTest f1: 0.51124654\n",
      "Class 3:\tTest Precision: 0.51851852,\tTest Recall: 0.65200000,\tTest f1: 0.57764840\n"
     ]
    },
    {
     "data": {
      "text/plain": [
       "3    5525\n",
       "4    4401\n",
       "1    3660\n",
       "2     414\n",
       "Name: count, dtype: int64"
      ]
     },
     "execution_count": 393,
     "metadata": {},
     "output_type": "execute_result"
    }
   ],
   "source": [
    "print(f'Test Accuracy: {test_accuracy:.8f},\\tTest Precision: {test_precision:.8f},\\tTest Recall: {test_recall:.8f},\\tTest F1: {test_f1:.8f}')\n",
    "\n",
    "class_test_precision, class_test_recall, class_test_f1, class_ = precision_recall_fscore_support(y_test, y_pred)\n",
    "for i in range(4):\n",
    "    print(f'Class {i}:\\tTest Precision: {class_test_precision[i]:.8f},\\tTest Recall: {class_test_recall[i]:.8f},\\tTest f1: {class_test_f1[i]:.8f}')\n",
    "\n",
    "pd.Series(y_pred).value_counts()"
   ]
  },
  {
   "cell_type": "markdown",
   "id": "11302a47",
   "metadata": {},
   "source": [
    "## Tackling Generalizability - statistics"
   ]
  },
  {
   "cell_type": "markdown",
   "id": "e0a9f54b",
   "metadata": {},
   "source": [
    "#### Feature selection percentage - coefficients for each feature"
   ]
  },
  {
   "cell_type": "code",
   "execution_count": null,
   "id": "d997a7a9",
   "metadata": {},
   "outputs": [
    {
     "ename": "IndexError",
     "evalue": "boolean index did not match indexed array along dimension 0; dimension is 5677598 but corresponding boolean dimension is 11355490",
     "output_type": "error",
     "traceback": [
      "\u001b[0;31m---------------------------------------------------------------------------\u001b[0m",
      "\u001b[0;31mIndexError\u001b[0m                                Traceback (most recent call last)",
      "Cell \u001b[0;32mIn[394], line 8\u001b[0m\n\u001b[1;32m      2\u001b[0m feature_names \u001b[38;5;241m=\u001b[39m np\u001b[38;5;241m.\u001b[39mempty(\u001b[38;5;241m0\u001b[39m)\n\u001b[1;32m      3\u001b[0m feature_names \u001b[38;5;241m=\u001b[39m np\u001b[38;5;241m.\u001b[39mconcatenate((feature_names, tfidf_vectorizer\u001b[38;5;241m.\u001b[39mget_feature_names_out(), \\\n\u001b[1;32m      4\u001b[0m                                 np\u001b[38;5;241m.\u001b[39marray([\u001b[38;5;124m\"\u001b[39m\u001b[38;5;124mflesch_test\u001b[39m\u001b[38;5;124m\"\u001b[39m]), \\\n\u001b[1;32m      5\u001b[0m                                 np\u001b[38;5;241m.\u001b[39marray([\u001b[38;5;124mf\u001b[39m\u001b[38;5;124m\"\u001b[39m\u001b[38;5;124mverb_count_\u001b[39m\u001b[38;5;132;01m{\u001b[39;00mverb\u001b[38;5;132;01m}\u001b[39;00m\u001b[38;5;124m\"\u001b[39m \u001b[38;5;28;01mfor\u001b[39;00m verb \u001b[38;5;129;01min\u001b[39;00m [\u001b[38;5;124m'\u001b[39m\u001b[38;5;124mVBZ\u001b[39m\u001b[38;5;124m'\u001b[39m, \u001b[38;5;124m'\u001b[39m\u001b[38;5;124mVBP\u001b[39m\u001b[38;5;124m'\u001b[39m, \u001b[38;5;124m'\u001b[39m\u001b[38;5;124mVBN\u001b[39m\u001b[38;5;124m'\u001b[39m, \u001b[38;5;124m'\u001b[39m\u001b[38;5;124mVBG\u001b[39m\u001b[38;5;124m'\u001b[39m, \u001b[38;5;124m'\u001b[39m\u001b[38;5;124mVBD\u001b[39m\u001b[38;5;124m'\u001b[39m, \u001b[38;5;124m'\u001b[39m\u001b[38;5;124mVB\u001b[39m\u001b[38;5;124m'\u001b[39m]]), \\\n\u001b[1;32m      6\u001b[0m                                 np\u001b[38;5;241m.\u001b[39marray([\u001b[38;5;124m\"\u001b[39m\u001b[38;5;124msentiment_analysis\u001b[39m\u001b[38;5;124m\"\u001b[39m])\n\u001b[1;32m      7\u001b[0m                                 ))\n\u001b[0;32m----> 8\u001b[0m feature_names \u001b[38;5;241m=\u001b[39m \u001b[43mfeature_names\u001b[49m\u001b[43m[\u001b[49m\u001b[43mfeature_selector\u001b[49m\u001b[38;5;241;43m.\u001b[39;49m\u001b[43mget_support\u001b[49m\u001b[43m(\u001b[49m\u001b[43m)\u001b[49m\u001b[43m]\u001b[49m\n\u001b[1;32m     10\u001b[0m \u001b[38;5;66;03m# Get coefficients for Logistic Regression\u001b[39;00m\n\u001b[1;32m     11\u001b[0m labels_coefficients \u001b[38;5;241m=\u001b[39m model\u001b[38;5;241m.\u001b[39mcoef_\n",
      "\u001b[0;31mIndexError\u001b[0m: boolean index did not match indexed array along dimension 0; dimension is 5677598 but corresponding boolean dimension is 11355490"
     ]
    }
   ],
   "source": [
    "# Get all column names for features\n",
    "feature_names = np.empty(0)\n",
    "feature_names = np.concatenate((feature_names, tfidf_vectorizer.get_feature_names_out(), \\\n",
    "                                np.array([\"flesch_test\"]), \\\n",
    "                                np.array([f\"verb_count_{verb}\" for verb in ['VBZ', 'VBP', 'VBN', 'VBG', 'VBD', 'VB']]), \\\n",
    "                                np.array([\"sentiment_analysis\"])\n",
    "                                ))\n",
    "feature_names = feature_names[feature_selector.get_support()]\n",
    "\n",
    "# Get coefficients for Logistic Regression\n",
    "labels_coefficients = model.coef_\n",
    "NUM_HIGHEST_ABS_COEFF = 10\n",
    "row = 1\n",
    "for label_coefficients in labels_coefficients:\n",
    "    plt.clf()\n",
    "    plt.figure(figsize=(10, 10))\n",
    "    label_coefficients_abs = np.abs(label_coefficients)\n",
    "    top_indices = np.argsort(label_coefficients_abs)[-NUM_HIGHEST_ABS_COEFF:]\n",
    "    top_feature_names = feature_names[top_indices]\n",
    "    top_coeffs = label_coefficients[top_indices]\n",
    "    plt.barh(top_feature_names, top_coeffs)\n",
    "    plt.savefig(f\"Best-features-coeff-label-{row}.png\")\n",
    "    row += 1\n"
   ]
  },
  {
   "cell_type": "markdown",
   "id": "84e943a9",
   "metadata": {},
   "source": [
    "#### Rejection of classification - rejection by probability threshold"
   ]
  },
  {
   "cell_type": "code",
   "execution_count": null,
   "id": "64252bc5",
   "metadata": {},
   "outputs": [
    {
     "data": {
      "image/png": "[encoded data removed]",
      "text/plain": [
       "<Figure size 640x480 with 1 Axes>"
      ]
     },
     "metadata": {},
     "output_type": "display_data"
    }
   ],
   "source": [
    "REJECTION_PERCENTAGE = 0.2 # percentage of examples that are rejected \n",
    "\n",
    "y_pred_prob = model.predict_proba(X_test_final)\n",
    "y_pred_prob_max = np.sort(np.max(y_pred_prob, axis=1))\n",
    "x_range = np.arange(1, len(y_pred_prob_max) + 1) / len(y_pred_prob_max)\n",
    "\n",
    "rejection_index = int(len(y_pred_prob_max) * REJECTION_PERCENTAGE)\n",
    "labelled_prediction_rejection_prob = y_pred_prob_max[rejection_index]\n",
    "\n",
    "plt.plot(x_range, y_pred_prob_max, color='b')\n",
    "plt.axvline(REJECTION_PERCENTAGE, color='r', linestyle='--', linewidth=2)\n",
    "plt.scatter(REJECTION_PERCENTAGE, labelled_prediction_rejection_prob, color='green', label=f'Intersection: ({REJECTION_PERCENTAGE}, {labelled_prediction_rejection_prob:.2f})')\n",
    "plt.legend()\n",
    "plt.xlabel('Percentage of test examples below corresponding labelled prediction probability')\n",
    "plt.ylabel('Probability of labelled prediction')\n",
    "plt.title('Cumulative distribution of labelled prediction probabilities')\n",
    "plt.savefig(\"rejection-probability-threshold-full-feature-set.png\")\n",
    "plt.show()"
   ]
  },
  {
   "cell_type": "markdown",
   "id": "5c59790b",
   "metadata": {},
   "source": [
    "#### Rejection of classification - rejection by distance in document embedding space"
   ]
  },
  {
   "cell_type": "code",
   "execution_count": null,
   "id": "c963b416",
   "metadata": {},
   "outputs": [
    {
     "data": {
      "image/png": "[encoded data removed]",
      "text/plain": [
       "<Figure size 1000x1000 with 1 Axes>"
      ]
     },
     "metadata": {},
     "output_type": "display_data"
    }
   ],
   "source": [
    "# 1) Filter by y_train\n",
    "# 2) mean on each column for each labels \"centroid\"\n",
    "# 3) Find distance from \"centroid\" to current\n",
    "unique_labels = np.unique(y_train)\n",
    "mean_labels = np.zeros((len(unique_labels), X_train.shape[1]))\n",
    "\n",
    "row = 0\n",
    "for label in unique_labels:\n",
    "    indices = y_train.index[y_train == label]\n",
    "    points = X_train[indices]\n",
    "    label_mean_point = points.mean(axis=0)\n",
    "    mean_labels[row] = label_mean_point\n",
    "    row += 1\n",
    "\n",
    "distances = pairwise_distances(X_test_final.toarray(), mean_labels, metric='euclidean')\n",
    "min_distances = np.min(distances, axis=1)\n",
    "min_distances = min_distances.flatten()\n",
    "min_distances.sort()\n",
    "\n",
    "x_range = np.arange(1, len(min_distances) + 1) / len(min_distances)\n",
    "rejection_index = int(len(min_distances) * (1 - REJECTION_PERCENTAGE))\n",
    "euc_dist_rejection_boundary = min_distances[rejection_index]\n",
    "\n",
    "plt.figure(figsize=(10, 10))\n",
    "plt.axvline(1 - REJECTION_PERCENTAGE, color='r', linestyle='--', linewidth=2)\n",
    "plt.scatter(1 - REJECTION_PERCENTAGE, euc_dist_rejection_boundary, color='green', label=f'Intersection: ({1 - REJECTION_PERCENTAGE}, {euc_dist_rejection_boundary:.2f})')\n",
    "plt.legend()\n",
    "plt.plot(x_range, min_distances, color='b')\n",
    "plt.xlabel('Percentage of test examples below corresponding euclidean distance to closest centroid')\n",
    "plt.ylabel('Euclidean distance of test example to closest label centroid in feature embedding space')\n",
    "plt.savefig(\"rejection-euclidean-distance-full-feature-set.png\")\n",
    "plt.show()"
   ]
  },
  {
   "cell_type": "markdown",
   "id": "ba8cfd39",
   "metadata": {},
   "source": [
    "# DEPRECATED FEATURES"
   ]
  },
  {
   "cell_type": "code",
   "execution_count": null,
   "id": "2f121ca9",
   "metadata": {},
   "outputs": [],
   "source": [
    "\n",
    "# ## Analysis of sentiment feature\n",
    "# count_analysis(X_train_sent_ana, y_train)\n",
    "\n",
    "# # Save sentiment analysis output\n",
    "# pd_sent_ana = pd.DataFrame(X_train_sent_ana, columns=[\"Sentiment\"])\n",
    "# compression_opts = dict(method='zip', archive_name='sent_ana.csv')\n",
    "# pd_sent_ana.to_csv('features/sent_ana.zip', index=False, compression=compression_opts)\n",
    "\n",
    "# 3) Subjectivity analysis \n",
    "# def subjectivity_analysis(sentence):\n",
    "#     doc = spacy_model(sentence)\n",
    "#     return doc._.blob.subjectivity\n",
    "\n",
    "# X_train_subj_ana = X_train_unprocessed.apply(subjectivity_analysis).to_numpy().reshape(-1, 1)\n",
    "\n",
    "# ## Analysis of subjectivity feature\n",
    "# count_analysis(X_train_subj_ana, y_train)\n",
    "\n",
    "# # Save sentiment analysis output\n",
    "# pd_subj_ana = pd.DataFrame(X_train_subj_ana, columns=[\"Subjectivity\"])\n",
    "# compression_opts = dict(method='zip', archive_name='subj_ana.csv')\n",
    "# pd_subj_ana.to_csv('features/subj_ana.zip', index=False, compression=compression_opts)\n",
    "\n",
    "# 4) Number of exclamation and question marks (pre-analyze first)\n",
    "# def count_exclamation_marks(sentence):\n",
    "#     return len(re.findall(r'\\!', sentence))\n",
    "\n",
    "# def count_question_marks(sentence):\n",
    "#     return len(re.findall(r'\\?', sentence))\n",
    "\n",
    "# X_train_count_ex = X_train.apply(count_exclamation_marks).to_numpy().reshape(-1, 1)\n",
    "# X_train_count_qn = X_train.apply(count_question_marks).to_numpy().reshape(-1, 1)\n",
    "\n",
    "# count_analysis(X_train_count_ex, y_train, \"Exclamation mark\")\n",
    "# count_analysis(X_train_count_qn, y_train, \"Question mark\")\n",
    "\n",
    "# 5) Count number of sentences\n",
    "# def count_sentences(sentences):\n",
    "#     return len(nltk.sent_tokenize(sentences)) \n",
    "\n",
    "# X_train_count_sentences = X_train.apply(count_sentences).to_numpy().reshape(-1, 1)\n",
    "# count_analysis_scatter(X_train_count_sentences, y_train, \"sentence_count\")\n",
    "\n",
    "# 7) text2emotion (takes too around 6 hours)\n",
    "# def emotion_vector(sentences):\n",
    "#     res = np.zeros((len(sentences), 5)) # Angry, Fear, Happy, Sad, Surprise\n",
    "#     row = 0\n",
    "#     for sentence in sentences:\n",
    "#         d = te.get_emotion(sentence)\n",
    "#         emotion_sorted = sorted(d.items(), key=lambda tup: tup[0])\n",
    "#         values = np.fromiter(map(lambda tup: tup[1], emotion_sorted), dtype=float)\n",
    "#         res[row] = values\n",
    "#         row += 1\n",
    "#     return res\n",
    "\n",
    "# X_train_emotion = emotion_vector(X_train_unprocessed).to_numpy().reshape(-1, 1)\n",
    "# count_analysis_scatter(X_train_emotion[:, 0], y_train, \"emotion_angry\")\n",
    "# count_analysis_scatter(X_train_emotion[:, 1], y_train, \"emotion_fear\")\n",
    "# count_analysis_scatter(X_train_emotion[:, 2], y_train, \"emotion_happy\")\n",
    "# count_analysis_scatter(X_train_emotion[:, 3], y_train, \"emotion_sad\")\n",
    "# count_analysis_scatter(X_train_emotion[:, 4], y_train, \"emotion_surprise\")\n",
    "\n",
    "# 2) Summation of word2vec on top k words tf-idf per sentence\n",
    "# k = 5\n",
    "# tfidf_vectorizer_word2vec = TfidfVectorizer(sublinear_tf=True)\n",
    "# tfidf_word2vec = tfidf_vectorizer_word2vec.fit_transform(X_train)\n",
    "# non_zero_counts = tfidf_word2vec.getnnz(axis=1)\n",
    "\n",
    "# def word2vec_select_k_best_sum(matrix, non_zero_counts):\n",
    "#     res = None\n",
    "#     for row in range(matrix.shape[0]):\n",
    "#         # Get indexes of words\n",
    "#         num_words = min(k, non_zero_counts[row])\n",
    "#         row_val_idxs = matrix[row].indices\n",
    "#         top_k_idx = np.argpartition(matrix[row].data, -num_words)[-num_words:]\n",
    "#         indexes = row_val_idxs[top_k_idx]\n",
    "        \n",
    "#         # Get words\n",
    "#         words = tfidf_vectorizer_word2vec.get_feature_names_out()[indexes]\n",
    "\n",
    "#         # Get summation of word vectors\n",
    "#         summation_vector = np.sum(np.array([spacy_model(word).vector for word in words]), axis=0)\n",
    "#         if res is None:\n",
    "#             res = np.zeros([matrix.shape[0], summation_vector.shape[0]])\n",
    "#         res[row] = summation_vector\n",
    "\n",
    "#     return res\n",
    "\n",
    "# if not enable_features_from_savefile:\n",
    "#     X_train_word2vec = word2vec_select_k_best_sum(tfidf_word2vec, non_zero_counts)\n"
   ]
  },
  {
   "cell_type": "code",
   "execution_count": null,
   "id": "510d5573",
   "metadata": {},
   "outputs": [],
   "source": [
    "#### Rejection of classification - rejection by distance in document embedding space\n",
    "\n",
    "# DEPRECATED DO NOT USE\n",
    "\n",
    "# pca_model = TruncatedSVD(n_components=2, random_state=SEED) # 2 dimension for plotting and visualization\n",
    "# X_train_pca_features = pca_model.fit_transform(X_train, y_train)\n",
    "\n",
    "# for i in range(1, 5):\n",
    "#     indices = y_train.index[y_train == i]\n",
    "#     points = X_train_pca_features[indices]\n",
    "#     plt.scatter(points[:, 0], points[:, 1], label=i)\n",
    "# plt.legend()\n",
    "# plt.show()"
   ]
  }
 ],
 "metadata": {
  "kernelspec": {
   "display_name": "Python 3 (ipykernel)",
   "language": "python",
   "name": "python3"
  },
  "language_info": {
   "codemirror_mode": {
    "name": "ipython",
    "version": 3
   },
   "file_extension": ".py",
   "mimetype": "text/x-python",
   "name": "python",
   "nbconvert_exporter": "python",
   "pygments_lexer": "ipython3",
   "version": "3.11.8"
  }
 },
 "nbformat": 4,
 "nbformat_minor": 5
}
