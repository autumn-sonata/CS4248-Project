{
 "cells": [
  {
   "cell_type": "markdown",
   "metadata": {},
   "source": [
    "## Fake News Corpus\n",
    "### https://huggingface.co/datasets/andyP/fake_news_en_opensources\n",
    "Mapping: (type)  ->  label\n",
    "- (satire)      ->  1-\"Satire\"\n",
    "- (fake)  ->  2-\"Hoax\"\n",
    "- (bias)        ->  3-\"Propaganda\"\n",
    "- (reliable)    ->  4-\"Reliable News\""
   ]
  },
  {
   "cell_type": "code",
   "execution_count": 9,
   "metadata": {},
   "outputs": [],
   "source": [
    "import sys\n",
    "import csv\n",
    "import pandas as pd\n",
    "import numpy as np\n",
    "\n",
    "from imblearn.under_sampling import RandomUnderSampler"
   ]
  },
  {
   "cell_type": "code",
   "execution_count": 10,
   "metadata": {},
   "outputs": [
    {
     "data": {
      "text/plain": [
       "500000"
      ]
     },
     "execution_count": 10,
     "metadata": {},
     "output_type": "execute_result"
    }
   ],
   "source": [
    "csv.field_size_limit(500000)"
   ]
  },
  {
   "cell_type": "code",
   "execution_count": 11,
   "metadata": {},
   "outputs": [],
   "source": [
    "CHUNK_SIZE = 10 ** 6"
   ]
  },
  {
   "cell_type": "code",
   "execution_count": 12,
   "metadata": {},
   "outputs": [
    {
     "name": "stderr",
     "output_type": "stream",
     "text": [
      "/var/folders/bc/p9431k390vddqs7hq2n8vrlh0000gn/T/ipykernel_1333/2384829192.py:5: SettingWithCopyWarning: \n",
      "A value is trying to be set on a copy of a slice from a DataFrame.\n",
      "Try using .loc[row_indexer,col_indexer] = value instead\n",
      "\n",
      "See the caveats in the documentation: https://pandas.pydata.org/pandas-docs/stable/user_guide/indexing.html#returning-a-view-versus-a-copy\n",
      "  filtered['type'] = filtered['type'].map({'satire': 1, 'fake': 2, 'bias': 3, 'reliable': 4})\n",
      "/var/folders/bc/p9431k390vddqs7hq2n8vrlh0000gn/T/ipykernel_1333/2384829192.py:5: SettingWithCopyWarning: \n",
      "A value is trying to be set on a copy of a slice from a DataFrame.\n",
      "Try using .loc[row_indexer,col_indexer] = value instead\n",
      "\n",
      "See the caveats in the documentation: https://pandas.pydata.org/pandas-docs/stable/user_guide/indexing.html#returning-a-view-versus-a-copy\n",
      "  filtered['type'] = filtered['type'].map({'satire': 1, 'fake': 2, 'bias': 3, 'reliable': 4})\n",
      "/var/folders/bc/p9431k390vddqs7hq2n8vrlh0000gn/T/ipykernel_1333/2384829192.py:5: SettingWithCopyWarning: \n",
      "A value is trying to be set on a copy of a slice from a DataFrame.\n",
      "Try using .loc[row_indexer,col_indexer] = value instead\n",
      "\n",
      "See the caveats in the documentation: https://pandas.pydata.org/pandas-docs/stable/user_guide/indexing.html#returning-a-view-versus-a-copy\n",
      "  filtered['type'] = filtered['type'].map({'satire': 1, 'fake': 2, 'bias': 3, 'reliable': 4})\n",
      "/var/folders/bc/p9431k390vddqs7hq2n8vrlh0000gn/T/ipykernel_1333/2384829192.py:5: SettingWithCopyWarning: \n",
      "A value is trying to be set on a copy of a slice from a DataFrame.\n",
      "Try using .loc[row_indexer,col_indexer] = value instead\n",
      "\n",
      "See the caveats in the documentation: https://pandas.pydata.org/pandas-docs/stable/user_guide/indexing.html#returning-a-view-versus-a-copy\n",
      "  filtered['type'] = filtered['type'].map({'satire': 1, 'fake': 2, 'bias': 3, 'reliable': 4})\n",
      "/var/folders/bc/p9431k390vddqs7hq2n8vrlh0000gn/T/ipykernel_1333/2384829192.py:5: SettingWithCopyWarning: \n",
      "A value is trying to be set on a copy of a slice from a DataFrame.\n",
      "Try using .loc[row_indexer,col_indexer] = value instead\n",
      "\n",
      "See the caveats in the documentation: https://pandas.pydata.org/pandas-docs/stable/user_guide/indexing.html#returning-a-view-versus-a-copy\n",
      "  filtered['type'] = filtered['type'].map({'satire': 1, 'fake': 2, 'bias': 3, 'reliable': 4})\n",
      "/var/folders/bc/p9431k390vddqs7hq2n8vrlh0000gn/T/ipykernel_1333/2384829192.py:5: SettingWithCopyWarning: \n",
      "A value is trying to be set on a copy of a slice from a DataFrame.\n",
      "Try using .loc[row_indexer,col_indexer] = value instead\n",
      "\n",
      "See the caveats in the documentation: https://pandas.pydata.org/pandas-docs/stable/user_guide/indexing.html#returning-a-view-versus-a-copy\n",
      "  filtered['type'] = filtered['type'].map({'satire': 1, 'fake': 2, 'bias': 3, 'reliable': 4})\n"
     ]
    }
   ],
   "source": [
    "with pd.read_csv('opensources_fake_news_cleaned.csv', chunksize=CHUNK_SIZE, index_col=\"id\") as reader:\n",
    "    for chunk in reader:\n",
    "        type_content = chunk[['type', 'content']]\n",
    "        filtered = type_content[(type_content.type == 'satire') | (type_content.type == 'fake') | (type_content.type == 'bias') | (type_content.type == 'reliable')]\n",
    "        filtered['type'] = filtered['type'].map({'satire': 1, 'fake': 2, 'bias': 3, 'reliable': 4})\n",
    "        filtered.to_csv('fakenewscorpus.csv', mode='a', index=False, header=False)"
   ]
  },
  {
   "cell_type": "code",
   "execution_count": null,
   "metadata": {},
   "outputs": [
    {
     "ename": "",
     "evalue": "",
     "output_type": "error",
     "traceback": [
      "\u001b[1;31mThe Kernel crashed while executing code in the the current cell or a previous cell. Please review the code in the cell(s) to identify a possible cause of the failure. Click <a href='https://aka.ms/vscodeJupyterKernelCrash'>here</a> for more info. View Jupyter <a href='command:jupyter.viewOutput'>log</a> for further details."
     ]
    }
   ],
   "source": [
    "# df = pd.read_csv('fakenewscorpus.csv', header=None, index_col=False)\n",
    "y = np.empty(0)\n",
    "X = np.empty(0)\n",
    "\n",
    "# Iterate over chunks\n",
    "for chunk in pd.read_csv('fakenewscorpus.csv', header=None, chunksize=CHUNK_SIZE):\n",
    "    y_chunk = chunk.iloc[:, 0].values  \n",
    "    X_chunk = chunk.iloc[:, 1].values  \n",
    "    \n",
    "    y = np.concatenate((y, y_chunk))\n",
    "    X = np.concatenate((X, X_chunk))"
   ]
  },
  {
   "cell_type": "code",
   "execution_count": null,
   "metadata": {},
   "outputs": [
    {
     "name": "stdout",
     "output_type": "stream",
     "text": [
      "0    FAIR USE NOTICE. Many of the stories on this s...\n",
      "1    From Conservapedia\\n\\nPsychology is the scient...\n",
      "2    From Conservapedia\\n\\nLeVeyan Satanism is a fo...\n",
      "3    Robert Parry| Commondreams\\n\\nIn the heat of t...\n",
      "4    Two weeks ago, when discussing the troubles pl...\n",
      "Name: 1, dtype: object\n",
      "0\n",
      "4    1807323\n",
      "3     769874\n",
      "2     494184\n",
      "1      84735\n",
      "Name: count, dtype: int64\n"
     ]
    }
   ],
   "source": [
    "# X = df.iloc[:, 1]\n",
    "# y = df.iloc[:, 0]\n",
    "\n",
    "print(X.head())\n",
    "print(y.value_counts())"
   ]
  },
  {
   "cell_type": "code",
   "execution_count": null,
   "metadata": {},
   "outputs": [],
   "source": [
    "rus = RandomUnderSampler(sampling_strategy={1: 15000, 2: 15000, 3: 15000, 4: 15000})\n",
    "X_undersampled, y_undersampled  = rus.fit_resample(X.to_frame(), y.to_frame())"
   ]
  },
  {
   "cell_type": "code",
   "execution_count": null,
   "metadata": {},
   "outputs": [
    {
     "name": "stdout",
     "output_type": "stream",
     "text": [
      "                                                         1\n",
      "2512605  DOGS generally fall out within less than half ...\n",
      "336352   Embarrassment reigned at the American Israel P...\n",
      "2926131  #Donald Trump was the underdog as he trailed t...\n",
      "1850024  HUNDREDS of thousands of people descended onto...\n",
      "887632   WASHINGTON—In an effort to streamline the proc...\n",
      "0\n",
      "1    15000\n",
      "2    15000\n",
      "3    15000\n",
      "4    15000\n",
      "Name: count, dtype: int64\n"
     ]
    }
   ],
   "source": [
    "print(X_undersampled.head())\n",
    "print(y_undersampled.value_counts())"
   ]
  },
  {
   "cell_type": "code",
   "execution_count": null,
   "metadata": {},
   "outputs": [],
   "source": [
    "df_undersampled = pd.concat([y_undersampled, X_undersampled], axis=1)"
   ]
  },
  {
   "cell_type": "code",
   "execution_count": null,
   "metadata": {},
   "outputs": [
    {
     "name": "stdout",
     "output_type": "stream",
     "text": [
      "2512605    DOGS generally fall out within less than half ...\n",
      "336352     Embarrassment reigned at the American Israel P...\n",
      "2926131    #Donald Trump was the underdog as he trailed t...\n",
      "1850024    HUNDREDS of thousands of people descended onto...\n",
      "887632     WASHINGTON—In an effort to streamline the proc...\n",
      "Name: 1, dtype: object\n",
      "0\n",
      "1    15000\n",
      "2    15000\n",
      "3    15000\n",
      "4    15000\n",
      "Name: count, dtype: int64\n"
     ]
    }
   ],
   "source": [
    "X_undersampled = df_undersampled.iloc[:, 1]\n",
    "y_undersampled = df_undersampled.iloc[:, 0]\n",
    "\n",
    "print(X_undersampled.head())\n",
    "print(y_undersampled.value_counts())"
   ]
  },
  {
   "cell_type": "code",
   "execution_count": null,
   "metadata": {},
   "outputs": [],
   "source": [
    "df_undersampled.to_csv('opensources_fakenewscorpus_balancedtest.csv', index=False, header=False)"
   ]
  },
  {
   "cell_type": "code",
   "execution_count": null,
   "metadata": {},
   "outputs": [],
   "source": []
  }
 ],
 "metadata": {
  "kernelspec": {
   "display_name": "Python 3",
   "language": "python",
   "name": "python3"
  },
  "language_info": {
   "codemirror_mode": {
    "name": "ipython",
    "version": 3
   },
   "file_extension": ".py",
   "mimetype": "text/x-python",
   "name": "python",
   "nbconvert_exporter": "python",
   "pygments_lexer": "ipython3",
   "version": "3.11.8"
  }
 },
 "nbformat": 4,
 "nbformat_minor": 2
}
