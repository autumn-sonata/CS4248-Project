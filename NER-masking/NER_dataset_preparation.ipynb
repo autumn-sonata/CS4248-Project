{
 "cells": [
  {
   "cell_type": "code",
   "execution_count": 7,
   "metadata": {},
   "outputs": [],
   "source": [
    "import pandas as pd\n",
    "import re\n",
    "import spacy"
   ]
  },
  {
   "cell_type": "code",
   "execution_count": 8,
   "metadata": {},
   "outputs": [],
   "source": [
    "spacy_model = spacy.load(\"en_core_web_lg\")"
   ]
  },
  {
   "cell_type": "code",
   "execution_count": 9,
   "metadata": {},
   "outputs": [],
   "source": [
    "def NER_masking_preprocessing(sentence):\n",
    "    document = spacy_model(sentence)\n",
    "    sentence = document.text\n",
    "    for word in document.ents:\n",
    "        sentence = re.sub(re.escape(word.text), f\"<{word.label_}>\", sentence)\n",
    "    return sentence"
   ]
  },
  {
   "cell_type": "code",
   "execution_count": 10,
   "metadata": {},
   "outputs": [],
   "source": [
    "df = pd.read_csv('../external-dataset/opensources_fakenewscorpus_modified_undersampled.csv', header=None, index_col = False)\n",
    "y = df.iloc[:, 0]\n",
    "X = df.iloc[:, 1]\n",
    "y.value_counts()\n",
    "\n",
    "X = X.apply(NER_masking_preprocessing)"
   ]
  },
  {
   "cell_type": "code",
   "execution_count": 11,
   "metadata": {},
   "outputs": [],
   "source": [
    "compression_opts = dict(method='zip', archive_name='NER_masked_test.csv')\n",
    "X.to_csv('NER_masked_test.zip', index=False, compression=compression_opts)"
   ]
  }
 ],
 "metadata": {
  "kernelspec": {
   "display_name": "cs4248-project",
   "language": "python",
   "name": "python3"
  },
  "language_info": {
   "codemirror_mode": {
    "name": "ipython",
    "version": 3
   },
   "file_extension": ".py",
   "mimetype": "text/x-python",
   "name": "python",
   "nbconvert_exporter": "python",
   "pygments_lexer": "ipython3",
   "version": "3.11.8"
  }
 },
 "nbformat": 4,
 "nbformat_minor": 2
}
