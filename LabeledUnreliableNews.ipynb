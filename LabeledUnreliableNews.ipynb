{
 "cells": [
  {
   "cell_type": "markdown",
   "id": "71c7e43e",
   "metadata": {},
   "source": [
    "## Setup"
   ]
  },
  {
   "cell_type": "code",
   "execution_count": 37,
   "id": "d5116044",
   "metadata": {},
   "outputs": [],
   "source": [
    "# RUN SETUP.SH BEFORE RUNNING THIS IPYNB\n",
    "\n",
    "import pandas as pd\n",
    "from sklearn.metrics import f1_score\n",
    "from sklearn.naive_bayes import MultinomialNB # Naive Bayes Classifier\n",
    "from sklearn.linear_model import LogisticRegression # Logistic Regression Classifier\n",
    "from sklearn.neural_network import MLPClassifier # Multi Layer Perceptron, simple Neural Network\n",
    "from sklearn.ensemble import VotingClassifier\n",
    "from sklearn.model_selection import GridSearchCV\n",
    "from sklearn.model_selection import train_test_split\n",
    "from sklearn.pipeline import Pipeline\n",
    "from sklearn.feature_extraction.text import CountVectorizer\n",
    "from sklearn.feature_extraction.text import TfidfVectorizer\n",
    "from imblearn.over_sampling import ADASYN, RandomOverSampler\n",
    "from scipy.sparse import hstack, csr_matrix\n",
    "import spacy\n",
    "import re\n",
    "import numpy as np\n",
    "from spacytextblob.spacytextblob import SpacyTextBlob\n",
    "import matplotlib.pyplot as plt"
   ]
  },
  {
   "cell_type": "code",
   "execution_count": 38,
   "id": "b81c927f",
   "metadata": {},
   "outputs": [],
   "source": [
    "SEED = 42 # seed random state for comparison, testing\n",
    "PARTITION_SIZE = 500 # Adjust lower if potato PC and higher if gaming rig or want results closer to actual\n",
    "enable_all_data = True # SET TO FALSE IF PREPROCESSING TAKES A LONG TIME (True = test on PARTITION_SIZE training and PARTITION_SIZE testing samples)"
   ]
  },
  {
   "cell_type": "markdown",
   "id": "c4f33710",
   "metadata": {},
   "source": [
    "## Pre-processing"
   ]
  },
  {
   "cell_type": "code",
   "execution_count": 39,
   "id": "48002adc",
   "metadata": {},
   "outputs": [],
   "source": [
    "### Jian Hui start"
   ]
  },
  {
   "cell_type": "code",
   "execution_count": 40,
   "id": "0a8090b1",
   "metadata": {},
   "outputs": [
    {
     "data": {
      "text/html": [
       "<div>\n",
       "<style scoped>\n",
       "    .dataframe tbody tr th:only-of-type {\n",
       "        vertical-align: middle;\n",
       "    }\n",
       "\n",
       "    .dataframe tbody tr th {\n",
       "        vertical-align: top;\n",
       "    }\n",
       "\n",
       "    .dataframe thead th {\n",
       "        text-align: right;\n",
       "    }\n",
       "</style>\n",
       "<table border=\"1\" class=\"dataframe\">\n",
       "  <thead>\n",
       "    <tr style=\"text-align: right;\">\n",
       "      <th></th>\n",
       "      <th>0</th>\n",
       "      <th>1</th>\n",
       "    </tr>\n",
       "  </thead>\n",
       "  <tbody>\n",
       "    <tr>\n",
       "      <th>0</th>\n",
       "      <td>1</td>\n",
       "      <td>A little less than a decade ago, hockey fans w...</td>\n",
       "    </tr>\n",
       "    <tr>\n",
       "      <th>1</th>\n",
       "      <td>1</td>\n",
       "      <td>The writers of the HBO series The Sopranos too...</td>\n",
       "    </tr>\n",
       "    <tr>\n",
       "      <th>2</th>\n",
       "      <td>1</td>\n",
       "      <td>Despite claims from the TV news outlet to offe...</td>\n",
       "    </tr>\n",
       "    <tr>\n",
       "      <th>3</th>\n",
       "      <td>1</td>\n",
       "      <td>After receiving 'subpar' service and experienc...</td>\n",
       "    </tr>\n",
       "    <tr>\n",
       "      <th>4</th>\n",
       "      <td>1</td>\n",
       "      <td>After watching his beloved Seattle Mariners pr...</td>\n",
       "    </tr>\n",
       "  </tbody>\n",
       "</table>\n",
       "</div>"
      ],
      "text/plain": [
       "   0                                                  1\n",
       "0  1  A little less than a decade ago, hockey fans w...\n",
       "1  1  The writers of the HBO series The Sopranos too...\n",
       "2  1  Despite claims from the TV news outlet to offe...\n",
       "3  1  After receiving 'subpar' service and experienc...\n",
       "4  1  After watching his beloved Seattle Mariners pr..."
      ]
     },
     "execution_count": 40,
     "metadata": {},
     "output_type": "execute_result"
    }
   ],
   "source": [
    "df = pd.read_csv('raw_data/fulltrain.csv', header=None, index_col = False)\n",
    "df.head()"
   ]
  },
  {
   "cell_type": "code",
   "execution_count": 41,
   "id": "641253f7",
   "metadata": {},
   "outputs": [
    {
     "name": "stdout",
     "output_type": "stream",
     "text": [
      "0        A little less than a decade ago, hockey fans w...\n",
      "1        The writers of the HBO series The Sopranos too...\n",
      "2        Despite claims from the TV news outlet to offe...\n",
      "3        After receiving 'subpar' service and experienc...\n",
      "4        After watching his beloved Seattle Mariners pr...\n",
      "                               ...                        \n",
      "48849    The ruling Kuomintang (KMT) has claimed owners...\n",
      "48850    The Taipei city government has encouraged the ...\n",
      "48851    President Ma Ying-jeou said Friday that a park...\n",
      "48852    The families of the four people who were kille...\n",
      "48853    The Ministry of Finance will make public on Sa...\n",
      "Name: 1, Length: 48854, dtype: object\n",
      "0        1\n",
      "1        1\n",
      "2        1\n",
      "3        1\n",
      "4        1\n",
      "        ..\n",
      "48849    4\n",
      "48850    4\n",
      "48851    4\n",
      "48852    4\n",
      "48853    4\n",
      "Name: 0, Length: 48854, dtype: int64\n",
      "48854\n",
      "48854\n"
     ]
    },
    {
     "data": {
      "text/plain": [
       "0\n",
       "3    17870\n",
       "1    14047\n",
       "4     9995\n",
       "2     6942\n",
       "Name: count, dtype: int64"
      ]
     },
     "execution_count": 41,
     "metadata": {},
     "output_type": "execute_result"
    }
   ],
   "source": [
    "df = df if enable_all_data else df.sample(n=PARTITION_SIZE, random_state=SEED)\n",
    "\n",
    "X_train = df.iloc[:, 1] \n",
    "y_train = df.iloc[:, 0]\n",
    "X_train_unprocessed = X_train\n",
    "print(X_train)\n",
    "print(y_train)\n",
    "\n",
    "print(len(X_train))\n",
    "print(len(y_train))\n",
    "\n",
    "y_train.value_counts()"
   ]
  },
  {
   "cell_type": "code",
   "execution_count": 42,
   "id": "9285af76",
   "metadata": {},
   "outputs": [],
   "source": [
    "# Processing data: tokenize the text for NLP Machine Learning\n",
    "# Lemmatization, Case-folding (lowercase), Stopword removal, Punctuation removal\n",
    "# Eric\n",
    "personal_pronouns = [\"i\", \"me\", \"mine\", \"my\", \"myself\", \"our\", \"ours\", \"we\", \\\n",
    "                     \"their\", \"you\", \"your\", \"he\", \"she\", \"it\", \"its\", \"we\", \"they\", \"me\", \\\n",
    "                     \"him\", \"her\", \"us\", \"them\", \"his\", \"hers\", \"herself\", \\\n",
    "                        \"himself\", \"itself\", \"themselves\", \"ourselves\", \"yourself\", \"yourselves\"]\n",
    "spacy_preprocess_model = spacy.load(\"en_core_web_lg\")\n",
    "spacy_preprocess_model.Defaults.stop_words -= set(personal_pronouns)\n",
    "\n",
    "# def preprocess(sentence):\n",
    "#     '''\n",
    "#     Preprocessing strategies:\n",
    "#     1) Tokenization\n",
    "#     2) Punctuation removal\n",
    "#     3) Stopword removal\n",
    "#     4) Lemmatization\n",
    "#     5) Lowercase\n",
    "#     '''\n",
    "#     tokens = spacy_preprocess_model(sentence)\n",
    "#     ls_sentence = [token.lemma_.lower() for token in tokens if not (token.is_punct and token not in [\"!\", \"?\"]) and not token.is_stop]\n",
    "#     return ls_sentence"
   ]
  },
  {
   "cell_type": "code",
   "execution_count": 43,
   "id": "5945f38f",
   "metadata": {},
   "outputs": [],
   "source": [
    "# Processing data: tokenize the text for NLP Machine Learning\n",
    "# Case-folding (lowercase), Stopword removal, Punctuation removal\n",
    "\n",
    "def preprocess(sentence):\n",
    "    '''\n",
    "    Preprocessing strategies:\n",
    "    1) Tokenization\n",
    "    2) Punctuation removal\n",
    "    3) Stopword removal\n",
    "    4) Lowercase\n",
    "    '''\n",
    "    tokens = spacy_preprocess_model(sentence)\n",
    "    ls_sentence = [token.text.lower() for token in tokens if not (token.is_punct and token not in [\"!\", \"?\"]) and not token.is_stop]\n",
    "    return ls_sentence"
   ]
  },
  {
   "cell_type": "code",
   "execution_count": 44,
   "id": "b12ef4e1",
   "metadata": {},
   "outputs": [],
   "source": [
    "# Processing data: tokenize the text for NLP Machine Learning\n",
    "# Case-folding (lowercase), Punctuation removal\n",
    "\n",
    "# def preprocess(sentence):\n",
    "#     '''\n",
    "#     Preprocessing strategies:\n",
    "#     1) Tokenization\n",
    "#     2) Punctuation removal\n",
    "#     3) Lowercase\n",
    "#     '''\n",
    "#     tokens = spacy_preprocess_model(sentence)\n",
    "#     ls_sentence = [token.text.lower() for token in tokens if not (token.is_punct and token not in [\"!\", \"?\"])]\n",
    "#     return ls_sentence"
   ]
  },
  {
   "cell_type": "code",
   "execution_count": 45,
   "id": "dfc63bee",
   "metadata": {},
   "outputs": [],
   "source": [
    "# Processing data: tokenize the text for NLP Machine Learning\n",
    "# pos (TAG), Punctuation removal\n",
    "\n",
    "# def preprocess(sentence):\n",
    "#     '''\n",
    "#     Preprocessing strategies:\n",
    "#     1) Tokenization\n",
    "#     2) Punctuation removal\n",
    "#     3) POS tag\n",
    "#     '''\n",
    "#     tokens = spacy_preprocess_model(sentence)\n",
    "#     ls_sentence = [token.tag_ for token in tokens if not (token.is_punct and token not in [\"!\", \"?\"])]\n",
    "#     return ls_sentence"
   ]
  },
  {
   "cell_type": "code",
   "execution_count": 46,
   "id": "96ab75c8",
   "metadata": {},
   "outputs": [],
   "source": [
    "# To be used by features for feature extraction:\n",
    "# X_train_ls = X_train.apply(preprocess)\n",
    "# X_train_sentence = X_train_ls.apply(lambda sentence: ' '.join(sentence))\n",
    "\n",
    "# X_train_ls = X_train\n",
    "# X_train_sentence = X_train_ls"
   ]
  },
  {
   "cell_type": "markdown",
   "id": "99544445",
   "metadata": {},
   "source": [
    "### Save and load preprocessed data"
   ]
  },
  {
   "cell_type": "code",
   "execution_count": 47,
   "id": "5c5103f5",
   "metadata": {},
   "outputs": [],
   "source": [
    "# X_train_sentence.head()"
   ]
  },
  {
   "cell_type": "code",
   "execution_count": 48,
   "id": "4e62e1f8",
   "metadata": {},
   "outputs": [],
   "source": [
    "# Save pre-processed data\n",
    "# compression_opts = dict(method='zip', archive_name='strip_punct_stop_lower.csv')\n",
    "# X_train_sentence.to_csv('strip_punct_stop_lower.zip', index=False, compression=compression_opts)"
   ]
  },
  {
   "cell_type": "code",
   "execution_count": 49,
   "id": "f090821c",
   "metadata": {},
   "outputs": [
    {
     "data": {
      "text/plain": [
       "<spacytextblob.spacytextblob.SpacyTextBlob at 0x30e8b4b20>"
      ]
     },
     "execution_count": 49,
     "metadata": {},
     "output_type": "execute_result"
    }
   ],
   "source": [
    "# quickload pre-processed data\n",
    "# replace 'raw_data/*.csv' with .csv file containing preprocessed data\n",
    "X_train = pd.read_csv('strip_punct_stop_lower.csv', index_col=False).iloc[:, 0]\n",
    "X_train.head()\n",
    "\n",
    "# Reload constants if preprocessing cells are not executed\n",
    "personal_pronouns = [\"i\", \"me\", \"mine\", \"my\", \"myself\", \"our\", \"ours\", \"we\", \\\n",
    "                     \"their\", \"you\", \"your\", \"he\", \"she\", \"it\", \"its\", \"we\", \"they\", \"me\", \\\n",
    "                     \"him\", \"her\", \"us\", \"them\", \"his\", \"hers\", \"herself\", \\\n",
    "                        \"himself\", \"itself\", \"themselves\", \"ourselves\", \"yourself\", \"yourselves\"]\n",
    "spacy_model = spacy.load(\"en_core_web_lg\")\n",
    "spacy_model.Defaults.stop_words -= set(personal_pronouns)\n",
    "spacy_model.add_pipe('spacytextblob')"
   ]
  },
  {
   "cell_type": "markdown",
   "id": "704b2070",
   "metadata": {},
   "source": [
    "### Train-Validation Split"
   ]
  },
  {
   "cell_type": "code",
   "execution_count": 50,
   "id": "8b08f33c",
   "metadata": {},
   "outputs": [],
   "source": [
    "X_train_unprocessed, _, _, _ = train_test_split(X_train_unprocessed, y_train, test_size=0.2, random_state=SEED)\n",
    "X_train, X_val, y_train, y_val = train_test_split(X_train, y_train, test_size=0.2, random_state=SEED)"
   ]
  },
  {
   "cell_type": "markdown",
   "id": "6c04d7d4",
   "metadata": {},
   "source": [
    "### Feature analysis"
   ]
  },
  {
   "cell_type": "code",
   "execution_count": 51,
   "id": "e6bd00ca",
   "metadata": {},
   "outputs": [],
   "source": [
    "def count_analysis(X, y):\n",
    "    unique_y = np.unique(y)\n",
    "    fig, axs = plt.subplots(len(unique_y), 1, figsize=(8, len(unique_y) * 4))\n",
    "    for i in unique_y:\n",
    "        indices = np.where(y == i)[0]\n",
    "        counts_i = X[indices]\n",
    "        unique_vals, counts = np.unique(counts_i, return_counts=True)\n",
    "        axs[i-1].scatter(unique_vals, counts)\n",
    "        axs[i-1].set_xlabel('X: ' + str(i))\n",
    "        axs[i-1].set_ylabel('y: ' + str(i))\n",
    "        axs[i-1].set_title('X against y: ' + str(i))\n",
    "\n",
    "    plt.tight_layout()\n",
    "    plt.show()"
   ]
  },
  {
   "cell_type": "markdown",
   "id": "a07ca07b",
   "metadata": {},
   "source": [
    "### Feature Engineering"
   ]
  },
  {
   "cell_type": "code",
   "execution_count": 52,
   "id": "c3095317",
   "metadata": {},
   "outputs": [],
   "source": [
    "# Feature set:\n",
    "# 1) TF-IDF\n",
    "tfidf_vectorizer = CountVectorizer(ngram_range=(1, 2))\n",
    "X_train_tfidf = tfidf_vectorizer.fit_transform(X_train)"
   ]
  },
  {
   "cell_type": "code",
   "execution_count": 53,
   "id": "9fdd8bd0",
   "metadata": {},
   "outputs": [],
   "source": [
    "# 2) Sentiment analysis\n",
    "def sentiment_analysis(sentence):\n",
    "    doc = spacy_model(sentence)\n",
    "    return doc._.blob.polarity\n",
    "\n",
    "X_train_sent_ana = X_train_unprocessed.apply(sentiment_analysis).to_numpy().reshape(-1, 1)"
   ]
  },
  {
   "cell_type": "code",
   "execution_count": 55,
   "id": "22596947",
   "metadata": {},
   "outputs": [],
   "source": [
    "# Save sentiment analysis output\n",
    "pd_sent_ana = pd.DataFrame(X_train_sent_ana, columns=[\"Sentiment\"])\n",
    "compression_opts = dict(method='zip', archive_name='sent_ana.csv')\n",
    "pd_sent_ana.to_csv('sent_ana.zip', index=False, compression=compression_opts)"
   ]
  },
  {
   "cell_type": "code",
   "execution_count": 56,
   "id": "d4a91218",
   "metadata": {},
   "outputs": [
    {
     "data": {
      "image/png": "[encoded data removed]",
      "text/plain": [
       "<Figure size 800x1600 with 4 Axes>"
      ]
     },
     "metadata": {},
     "output_type": "display_data"
    }
   ],
   "source": [
    "## Analysis of sentiment feature\n",
    "count_analysis(X_train_sent_ana, y_train)"
   ]
  },
  {
   "cell_type": "code",
   "execution_count": 57,
   "id": "261ff629",
   "metadata": {},
   "outputs": [],
   "source": [
    "# 3) Subjectivity analysis \n",
    "def subjectivity_analysis(sentence):\n",
    "    doc = spacy_model(sentence)\n",
    "    return doc._.blob.subjectivity\n",
    "\n",
    "X_train_subj_ana = X_train_unprocessed.apply(subjectivity_analysis).to_numpy().reshape(-1, 1)\n",
    "\n",
    "## Analysis of subjectivity feature\n",
    "count_analysis(X_train_subj_ana, y_train)"
   ]
  },
  {
   "cell_type": "code",
   "execution_count": null,
   "id": "2770a819",
   "metadata": {},
   "outputs": [],
   "source": [
    "# Save sentiment analysis output\n",
    "pd_subj_ana = pd.DataFrame(X_train_subj_ana, columns=[\"Subjectivity\"])\n",
    "compression_opts = dict(method='zip', archive_name='subj_ana.csv')\n",
    "pd_subj_ana.to_csv('subj_ana.zip', index=False, compression=compression_opts)"
   ]
  },
  {
   "cell_type": "code",
   "execution_count": null,
   "id": "50493e12",
   "metadata": {},
   "outputs": [],
   "source": [
    "# 4) Number of exclamation and question marks (pre-analyze first)\n",
    "def count_exclamation_marks(sentence):\n",
    "    return len(re.findall(r'\\!', sentence))\n",
    "\n",
    "def count_question_marks(sentence):\n",
    "    return len(re.findall(r'\\?', sentence))\n",
    "\n",
    "X_train_count_ex = X_train.apply(count_exclamation_marks).to_numpy().reshape(-1, 1)\n",
    "X_train_count_qn = X_train.apply(count_question_marks).to_numpy().reshape(-1, 1)"
   ]
  },
  {
   "cell_type": "code",
   "execution_count": null,
   "id": "378359e5",
   "metadata": {},
   "outputs": [],
   "source": [
    "# 5) Summation of word2vec on top k words tf-idf per sentence\n",
    "k = 5\n",
    "tfidf_vectorizer_word2vec = TfidfVectorizer(sublinear_tf=True)\n",
    "tfidf_word2vec = tfidf_vectorizer_word2vec.fit_transform(X_train)\n",
    "non_zero_counts = tfidf_word2vec.getnnz(axis=1)\n",
    "\n",
    "def word2vec_select_k_best_sum(matrix):\n",
    "    res = None\n",
    "    for row in range(matrix.shape[0]):\n",
    "        # Get indexes of words\n",
    "        num_words = min(k, non_zero_counts[row])\n",
    "        row_val_idxs = matrix[row].indices\n",
    "        top_k_idx = np.argpartition(matrix[row].data, -num_words)[-num_words:]\n",
    "        indexes = row_val_idxs[top_k_idx]\n",
    "        \n",
    "        # Get words\n",
    "        words = tfidf_vectorizer_word2vec.get_feature_names_out()[indexes]\n",
    "\n",
    "        # Get summation of word vectors\n",
    "        summation_vector = np.sum(np.array([spacy_model(word).vector for word in words]), axis=0)\n",
    "        if res is None:\n",
    "            res = np.zeros([matrix.shape[0], summation_vector.shape[0]])\n",
    "        res[row] = summation_vector\n",
    "\n",
    "    return res\n",
    "\n",
    "X_train_word2vec = word2vec_select_k_best_sum(tfidf_word2vec)\n"
   ]
  },
  {
   "cell_type": "code",
   "execution_count": null,
   "id": "f48d5a73",
   "metadata": {},
   "outputs": [],
   "source": [
    "# 6) Number of personal pronouns\n",
    "def count_personal_pronouns(sentence):\n",
    "    counter = 0\n",
    "    sentence_ls = sentence.split()\n",
    "    for token in sentence_ls:\n",
    "        if token in personal_pronouns:\n",
    "            counter += 1\n",
    "    return counter\n",
    "\n",
    "X_train_count_pp = X_train.apply(count_personal_pronouns).to_numpy().reshape(-1, 1)"
   ]
  },
  {
   "cell_type": "code",
   "execution_count": null,
   "id": "0156ef0b",
   "metadata": {},
   "outputs": [],
   "source": [
    "# 7) \n",
    "\n",
    "# Model: LSTM? Random forest, SVM"
   ]
  },
  {
   "cell_type": "code",
   "execution_count": null,
   "id": "ff0f8f1b",
   "metadata": {},
   "outputs": [],
   "source": [
    "# Consolidation of feature sets into single vector:\n",
    "# Eric\n",
    "# print(X_train_tfidf.shape)\n",
    "# print(X_train_sent_ana.shape)\n",
    "# print(X_train_subj_ana.shape)\n",
    "# print(X_train_count_ex.shape)\n",
    "# print(X_train_count_qn.shape)\n",
    "# print(X_train_word2vec.shape)\n",
    "# print(X_train_count_pp.shape)\n",
    "X_train = hstack([X_train_tfidf, X_train_sent_ana, X_train_subj_ana, X_train_count_ex, X_train_count_qn, X_train_word2vec, X_train_count_pp])\n",
    "# X_train = hstack([X_train_tfidf, X_train_count_ex, X_train_count_qn, X_train_count_pp])"
   ]
  },
  {
   "cell_type": "markdown",
   "id": "02ce5211",
   "metadata": {},
   "source": [
    "### Oversampling"
   ]
  },
  {
   "cell_type": "code",
   "execution_count": null,
   "id": "a7b26eb2",
   "metadata": {},
   "outputs": [],
   "source": [
    "# RandomOverSampler\n",
    "ros = RandomOverSampler(random_state=SEED)\n",
    "X_train, y_train = ros.fit_resample(X_train, y_train)"
   ]
  },
  {
   "cell_type": "code",
   "execution_count": null,
   "id": "0a609fce",
   "metadata": {},
   "outputs": [],
   "source": [
    "# ADASYN\n",
    "# ada = ADASYN(random_state=SEED)\n",
    "# X_train, y_train = ada.fit_resample(X_train, y_train)"
   ]
  },
  {
   "cell_type": "code",
   "execution_count": null,
   "id": "f4eaf66d",
   "metadata": {},
   "outputs": [],
   "source": [
    "# SMOTEENN"
   ]
  },
  {
   "cell_type": "markdown",
   "id": "83844d2d",
   "metadata": {},
   "source": [
    "## Models"
   ]
  },
  {
   "cell_type": "markdown",
   "id": "b07f2107",
   "metadata": {},
   "source": [
    "### Naive Bayes Model [MultinomialNB]"
   ]
  },
  {
   "cell_type": "code",
   "execution_count": null,
   "id": "c952f86b",
   "metadata": {},
   "outputs": [],
   "source": [
    "# model = MultinomialNB().fit(X_train, y_train) # fit model"
   ]
  },
  {
   "cell_type": "markdown",
   "id": "3b89589e",
   "metadata": {},
   "source": [
    "### Logistic Regression Model [LogisticRegression]"
   ]
  },
  {
   "cell_type": "code",
   "execution_count": null,
   "id": "e4879294",
   "metadata": {},
   "outputs": [],
   "source": [
    "model = LogisticRegression(solver = 'saga', max_iter=10000).fit(X_train, y_train) # train the model"
   ]
  },
  {
   "cell_type": "markdown",
   "id": "4ac9bd3c",
   "metadata": {},
   "source": [
    "## Validation"
   ]
  },
  {
   "cell_type": "code",
   "execution_count": null,
   "id": "b4ae2fd2",
   "metadata": {},
   "outputs": [],
   "source": [
    "# Apply feature engineering on X_val\n",
    "val_tfidf_word2vec = tfidf_vectorizer_word2vec.transform(X_val)\n",
    "non_zero_counts = val_tfidf_word2vec.getnnz(axis=1)\n",
    "\n",
    "X_val_tfidf = tfidf_vectorizer.transform(X_val)\n",
    "X_val_sent_ana = X_val.apply(sentiment_analysis).to_numpy().reshape(-1, 1)\n",
    "X_val_subj_ana = X_val.apply(subjectivity_analysis).to_numpy().reshape(-1, 1)\n",
    "X_val_count_ex = X_val.apply(count_exclamation_marks).to_numpy().reshape(-1, 1)\n",
    "X_val_count_qn = X_val.apply(count_question_marks).to_numpy().reshape(-1, 1)\n",
    "X_val_word2vec = word2vec_select_k_best_sum(val_tfidf_word2vec)\n",
    "X_val_count_pp = X_val.apply(count_personal_pronouns).to_numpy().reshape(-1, 1)"
   ]
  },
  {
   "cell_type": "code",
   "execution_count": null,
   "id": "d1e6b93d",
   "metadata": {},
   "outputs": [],
   "source": [
    "# Consolidation of feature sets:\n",
    "X_val_final = hstack([X_val_tfidf, X_val_sent_ana, X_val_subj_ana, X_val_count_ex, X_val_count_qn, X_val_word2vec, X_val_count_pp])"
   ]
  },
  {
   "cell_type": "code",
   "execution_count": null,
   "id": "8fe0b24e",
   "metadata": {},
   "outputs": [
    {
     "data": {
      "text/plain": [
       "0.6320210170765249"
      ]
     },
     "execution_count": 30,
     "metadata": {},
     "output_type": "execute_result"
    }
   ],
   "source": [
    "# obtain predictions on validation data\n",
    "y_val_predicted = model.predict(X_val_final)\n",
    "\n",
    "# evaluate model training metrics with macro f1 score\n",
    "f1_score(y_val, y_val_predicted, average='macro')"
   ]
  },
  {
   "cell_type": "markdown",
   "id": "db8997e6",
   "metadata": {},
   "source": [
    "## Test Data"
   ]
  },
  {
   "cell_type": "code",
   "execution_count": null,
   "id": "47293816",
   "metadata": {},
   "outputs": [],
   "source": [
    "# TEST DATA \n",
    "test_df = pd.read_csv('raw_data/balancedtest.csv', index_col = False)\n",
    "test_df = test_df if enable_all_data else test_df.sample(PARTITION_SIZE)"
   ]
  },
  {
   "cell_type": "code",
   "execution_count": null,
   "id": "bd783554",
   "metadata": {},
   "outputs": [],
   "source": [
    "X_test = test_df.iloc[:, 1]\n",
    "y_test = test_df.iloc[:, 0]\n",
    "\n",
    "# print(X_test.head())\n",
    "# print(y_test.head())"
   ]
  },
  {
   "cell_type": "code",
   "execution_count": null,
   "id": "337bcfb0",
   "metadata": {},
   "outputs": [],
   "source": [
    "# Preprocess test data to match steps on training data\n",
    "X_test_ls = X_test.apply(preprocess)\n",
    "X_test_sentence = X_test_ls.apply(lambda sentence: ' '.join(sentence))\n",
    "\n",
    "X_test = X_test_sentence"
   ]
  },
  {
   "cell_type": "markdown",
   "id": "0863f80a",
   "metadata": {},
   "source": [
    "### Feature Engineering (Test Data)"
   ]
  },
  {
   "cell_type": "code",
   "execution_count": null,
   "id": "9d0afa06",
   "metadata": {},
   "outputs": [],
   "source": [
    "test_tfidf_word2vec = tfidf_vectorizer_word2vec.transform(X_test)\n",
    "non_zero_counts = test_tfidf_word2vec.getnnz(axis=1)\n",
    "\n",
    "X_test_tfidf = tfidf_vectorizer.transform(X_test)\n",
    "X_test_sent_ana = X_test.apply(sentiment_analysis).to_numpy().reshape(-1, 1)\n",
    "X_test_subj_ana = X_test.apply(subjectivity_analysis).to_numpy().reshape(-1, 1)\n",
    "X_test_count_ex = X_test.apply(count_exclamation_marks).to_numpy().reshape(-1, 1)\n",
    "X_test_count_qn = X_test.apply(count_question_marks).to_numpy().reshape(-1, 1)\n",
    "X_test_word2vec = word2vec_select_k_best_sum(test_tfidf_word2vec)\n",
    "X_test_count_pp = X_test.apply(count_personal_pronouns).to_numpy().reshape(-1, 1)"
   ]
  },
  {
   "cell_type": "code",
   "execution_count": null,
   "id": "891b1b5c",
   "metadata": {},
   "outputs": [],
   "source": [
    "# Consolidation of feature transformations into single vector\n",
    "# Eric\n",
    "X_test_final = hstack([X_test_tfidf, X_test_sent_ana, X_test_subj_ana, X_test_count_ex, X_test_count_qn, X_test_word2vec, X_test_count_pp])"
   ]
  },
  {
   "cell_type": "code",
   "execution_count": null,
   "id": "e8f9170c",
   "metadata": {},
   "outputs": [
    {
     "data": {
      "text/plain": [
       "0.4723953270193005"
      ]
     },
     "execution_count": 36,
     "metadata": {},
     "output_type": "execute_result"
    }
   ],
   "source": [
    "# obtain predictions on test data\n",
    "y_pred = model.predict(X_test_final)\n",
    "\n",
    "# evaluate model training metrics with macro f1 score\n",
    "f1_score(y_test, y_pred, average='macro')"
   ]
  },
  {
   "cell_type": "code",
   "execution_count": null,
   "id": "48c4ce93",
   "metadata": {},
   "outputs": [],
   "source": []
  },
  {
   "cell_type": "code",
   "execution_count": null,
   "id": "5544f381",
   "metadata": {},
   "outputs": [
    {
     "data": {
      "text/plain": [
       "0.6512006559989986"
      ]
     },
     "execution_count": 37,
     "metadata": {},
     "output_type": "execute_result"
    }
   ],
   "source": [
    "# do prediction on training data\n",
    "y_train_predicted = model.predict(X_train)\n",
    "\n",
    "# obtain training f1 score\n",
    "f1_score(y_train, y_train_predicted, average='macro') # TODO this tests the model on its already trained set..."
   ]
  },
  {
   "cell_type": "code",
   "execution_count": null,
   "id": "d0cc6c11",
   "metadata": {},
   "outputs": [
    {
     "ename": "ValueError",
     "evalue": "could not convert string to float: '  football insiders calling unexpectedly severe punishment national football league sentenced new england patriots quarterback tom brady year new york jets his role called deflategate scandal punishment drew howls protest patriots fans management calling harshest league history n.f.l. commissioner roger goodell defended decision necessary deterrent need send message league zero tolerance cheating goodell said believe year playing quarterback jets sends message loud clear brady reportedly state shock heard news his punishment later met reporters hastily called press conference frequently verge tears going fight decision fibre my brady said america nt force person play jets sports bar manhattan reaction impending arrival jets longtime nemesis muted jets fan observed look bradys dick nt deserve'",
     "output_type": "error",
     "traceback": [
      "\u001b[0;31m---------------------------------------------------------------------------\u001b[0m",
      "\u001b[0;31mValueError\u001b[0m                                Traceback (most recent call last)",
      "Cell \u001b[0;32mIn[38], line 2\u001b[0m\n\u001b[1;32m      1\u001b[0m \u001b[38;5;66;03m# obtain predictions on test data\u001b[39;00m\n\u001b[0;32m----> 2\u001b[0m y_pred \u001b[38;5;241m=\u001b[39m \u001b[43mmodel\u001b[49m\u001b[38;5;241;43m.\u001b[39;49m\u001b[43mpredict\u001b[49m\u001b[43m(\u001b[49m\u001b[43mX_test\u001b[49m\u001b[43m)\u001b[49m\n\u001b[1;32m      4\u001b[0m \u001b[38;5;66;03m# obtain test f1 score\u001b[39;00m\n\u001b[1;32m      5\u001b[0m f1_score(y_test, y_pred, average\u001b[38;5;241m=\u001b[39m \u001b[38;5;124m'\u001b[39m\u001b[38;5;124mmacro\u001b[39m\u001b[38;5;124m'\u001b[39m)\n",
      "File \u001b[0;32m~/anaconda3/envs/cs4248/lib/python3.10/site-packages/sklearn/linear_model/_base.py:447\u001b[0m, in \u001b[0;36mLinearClassifierMixin.predict\u001b[0;34m(self, X)\u001b[0m\n\u001b[1;32m    433\u001b[0m \u001b[38;5;28;01mdef\u001b[39;00m \u001b[38;5;21mpredict\u001b[39m(\u001b[38;5;28mself\u001b[39m, X):\n\u001b[1;32m    434\u001b[0m \u001b[38;5;250m    \u001b[39m\u001b[38;5;124;03m\"\"\"\u001b[39;00m\n\u001b[1;32m    435\u001b[0m \u001b[38;5;124;03m    Predict class labels for samples in X.\u001b[39;00m\n\u001b[1;32m    436\u001b[0m \n\u001b[0;32m   (...)\u001b[0m\n\u001b[1;32m    445\u001b[0m \u001b[38;5;124;03m        Vector containing the class labels for each sample.\u001b[39;00m\n\u001b[1;32m    446\u001b[0m \u001b[38;5;124;03m    \"\"\"\u001b[39;00m\n\u001b[0;32m--> 447\u001b[0m     scores \u001b[38;5;241m=\u001b[39m \u001b[38;5;28;43mself\u001b[39;49m\u001b[38;5;241;43m.\u001b[39;49m\u001b[43mdecision_function\u001b[49m\u001b[43m(\u001b[49m\u001b[43mX\u001b[49m\u001b[43m)\u001b[49m\n\u001b[1;32m    448\u001b[0m     \u001b[38;5;28;01mif\u001b[39;00m \u001b[38;5;28mlen\u001b[39m(scores\u001b[38;5;241m.\u001b[39mshape) \u001b[38;5;241m==\u001b[39m \u001b[38;5;241m1\u001b[39m:\n\u001b[1;32m    449\u001b[0m         indices \u001b[38;5;241m=\u001b[39m (scores \u001b[38;5;241m>\u001b[39m \u001b[38;5;241m0\u001b[39m)\u001b[38;5;241m.\u001b[39mastype(\u001b[38;5;28mint\u001b[39m)\n",
      "File \u001b[0;32m~/anaconda3/envs/cs4248/lib/python3.10/site-packages/sklearn/linear_model/_base.py:429\u001b[0m, in \u001b[0;36mLinearClassifierMixin.decision_function\u001b[0;34m(self, X)\u001b[0m\n\u001b[1;32m    409\u001b[0m \u001b[38;5;250m\u001b[39m\u001b[38;5;124;03m\"\"\"\u001b[39;00m\n\u001b[1;32m    410\u001b[0m \u001b[38;5;124;03mPredict confidence scores for samples.\u001b[39;00m\n\u001b[1;32m    411\u001b[0m \n\u001b[0;32m   (...)\u001b[0m\n\u001b[1;32m    425\u001b[0m \u001b[38;5;124;03m    this class would be predicted.\u001b[39;00m\n\u001b[1;32m    426\u001b[0m \u001b[38;5;124;03m\"\"\"\u001b[39;00m\n\u001b[1;32m    427\u001b[0m check_is_fitted(\u001b[38;5;28mself\u001b[39m)\n\u001b[0;32m--> 429\u001b[0m X \u001b[38;5;241m=\u001b[39m \u001b[38;5;28;43mself\u001b[39;49m\u001b[38;5;241;43m.\u001b[39;49m\u001b[43m_validate_data\u001b[49m\u001b[43m(\u001b[49m\u001b[43mX\u001b[49m\u001b[43m,\u001b[49m\u001b[43m \u001b[49m\u001b[43maccept_sparse\u001b[49m\u001b[38;5;241;43m=\u001b[39;49m\u001b[38;5;124;43m\"\u001b[39;49m\u001b[38;5;124;43mcsr\u001b[39;49m\u001b[38;5;124;43m\"\u001b[39;49m\u001b[43m,\u001b[49m\u001b[43m \u001b[49m\u001b[43mreset\u001b[49m\u001b[38;5;241;43m=\u001b[39;49m\u001b[38;5;28;43;01mFalse\u001b[39;49;00m\u001b[43m)\u001b[49m\n\u001b[1;32m    430\u001b[0m scores \u001b[38;5;241m=\u001b[39m safe_sparse_dot(X, \u001b[38;5;28mself\u001b[39m\u001b[38;5;241m.\u001b[39mcoef_\u001b[38;5;241m.\u001b[39mT, dense_output\u001b[38;5;241m=\u001b[39m\u001b[38;5;28;01mTrue\u001b[39;00m) \u001b[38;5;241m+\u001b[39m \u001b[38;5;28mself\u001b[39m\u001b[38;5;241m.\u001b[39mintercept_\n\u001b[1;32m    431\u001b[0m \u001b[38;5;28;01mreturn\u001b[39;00m scores\u001b[38;5;241m.\u001b[39mravel() \u001b[38;5;28;01mif\u001b[39;00m scores\u001b[38;5;241m.\u001b[39mshape[\u001b[38;5;241m1\u001b[39m] \u001b[38;5;241m==\u001b[39m \u001b[38;5;241m1\u001b[39m \u001b[38;5;28;01melse\u001b[39;00m scores\n",
      "File \u001b[0;32m~/anaconda3/envs/cs4248/lib/python3.10/site-packages/sklearn/base.py:577\u001b[0m, in \u001b[0;36mBaseEstimator._validate_data\u001b[0;34m(self, X, y, reset, validate_separately, **check_params)\u001b[0m\n\u001b[1;32m    575\u001b[0m     \u001b[38;5;28;01mraise\u001b[39;00m \u001b[38;5;167;01mValueError\u001b[39;00m(\u001b[38;5;124m\"\u001b[39m\u001b[38;5;124mValidation should be done on X, y or both.\u001b[39m\u001b[38;5;124m\"\u001b[39m)\n\u001b[1;32m    576\u001b[0m \u001b[38;5;28;01melif\u001b[39;00m \u001b[38;5;129;01mnot\u001b[39;00m no_val_X \u001b[38;5;129;01mand\u001b[39;00m no_val_y:\n\u001b[0;32m--> 577\u001b[0m     X \u001b[38;5;241m=\u001b[39m \u001b[43mcheck_array\u001b[49m\u001b[43m(\u001b[49m\u001b[43mX\u001b[49m\u001b[43m,\u001b[49m\u001b[43m \u001b[49m\u001b[43minput_name\u001b[49m\u001b[38;5;241;43m=\u001b[39;49m\u001b[38;5;124;43m\"\u001b[39;49m\u001b[38;5;124;43mX\u001b[39;49m\u001b[38;5;124;43m\"\u001b[39;49m\u001b[43m,\u001b[49m\u001b[43m \u001b[49m\u001b[38;5;241;43m*\u001b[39;49m\u001b[38;5;241;43m*\u001b[39;49m\u001b[43mcheck_params\u001b[49m\u001b[43m)\u001b[49m\n\u001b[1;32m    578\u001b[0m     out \u001b[38;5;241m=\u001b[39m X\n\u001b[1;32m    579\u001b[0m \u001b[38;5;28;01melif\u001b[39;00m no_val_X \u001b[38;5;129;01mand\u001b[39;00m \u001b[38;5;129;01mnot\u001b[39;00m no_val_y:\n",
      "File \u001b[0;32m~/anaconda3/envs/cs4248/lib/python3.10/site-packages/sklearn/utils/validation.py:856\u001b[0m, in \u001b[0;36mcheck_array\u001b[0;34m(array, accept_sparse, accept_large_sparse, dtype, order, copy, force_all_finite, ensure_2d, allow_nd, ensure_min_samples, ensure_min_features, estimator, input_name)\u001b[0m\n\u001b[1;32m    854\u001b[0m         array \u001b[38;5;241m=\u001b[39m array\u001b[38;5;241m.\u001b[39mastype(dtype, casting\u001b[38;5;241m=\u001b[39m\u001b[38;5;124m\"\u001b[39m\u001b[38;5;124munsafe\u001b[39m\u001b[38;5;124m\"\u001b[39m, copy\u001b[38;5;241m=\u001b[39m\u001b[38;5;28;01mFalse\u001b[39;00m)\n\u001b[1;32m    855\u001b[0m     \u001b[38;5;28;01melse\u001b[39;00m:\n\u001b[0;32m--> 856\u001b[0m         array \u001b[38;5;241m=\u001b[39m \u001b[43mnp\u001b[49m\u001b[38;5;241;43m.\u001b[39;49m\u001b[43masarray\u001b[49m\u001b[43m(\u001b[49m\u001b[43marray\u001b[49m\u001b[43m,\u001b[49m\u001b[43m \u001b[49m\u001b[43morder\u001b[49m\u001b[38;5;241;43m=\u001b[39;49m\u001b[43morder\u001b[49m\u001b[43m,\u001b[49m\u001b[43m \u001b[49m\u001b[43mdtype\u001b[49m\u001b[38;5;241;43m=\u001b[39;49m\u001b[43mdtype\u001b[49m\u001b[43m)\u001b[49m\n\u001b[1;32m    857\u001b[0m \u001b[38;5;28;01mexcept\u001b[39;00m ComplexWarning \u001b[38;5;28;01mas\u001b[39;00m complex_warning:\n\u001b[1;32m    858\u001b[0m     \u001b[38;5;28;01mraise\u001b[39;00m \u001b[38;5;167;01mValueError\u001b[39;00m(\n\u001b[1;32m    859\u001b[0m         \u001b[38;5;124m\"\u001b[39m\u001b[38;5;124mComplex data not supported\u001b[39m\u001b[38;5;130;01m\\n\u001b[39;00m\u001b[38;5;132;01m{}\u001b[39;00m\u001b[38;5;130;01m\\n\u001b[39;00m\u001b[38;5;124m\"\u001b[39m\u001b[38;5;241m.\u001b[39mformat(array)\n\u001b[1;32m    860\u001b[0m     ) \u001b[38;5;28;01mfrom\u001b[39;00m \u001b[38;5;21;01mcomplex_warning\u001b[39;00m\n",
      "File \u001b[0;32m~/anaconda3/envs/cs4248/lib/python3.10/site-packages/pandas/core/series.py:953\u001b[0m, in \u001b[0;36mSeries.__array__\u001b[0;34m(self, dtype)\u001b[0m\n\u001b[1;32m    906\u001b[0m \u001b[38;5;250m\u001b[39m\u001b[38;5;124;03m\"\"\"\u001b[39;00m\n\u001b[1;32m    907\u001b[0m \u001b[38;5;124;03mReturn the values as a NumPy array.\u001b[39;00m\n\u001b[1;32m    908\u001b[0m \n\u001b[0;32m   (...)\u001b[0m\n\u001b[1;32m    950\u001b[0m \u001b[38;5;124;03m      dtype='datetime64[ns]')\u001b[39;00m\n\u001b[1;32m    951\u001b[0m \u001b[38;5;124;03m\"\"\"\u001b[39;00m\n\u001b[1;32m    952\u001b[0m values \u001b[38;5;241m=\u001b[39m \u001b[38;5;28mself\u001b[39m\u001b[38;5;241m.\u001b[39m_values\n\u001b[0;32m--> 953\u001b[0m arr \u001b[38;5;241m=\u001b[39m \u001b[43mnp\u001b[49m\u001b[38;5;241;43m.\u001b[39;49m\u001b[43masarray\u001b[49m\u001b[43m(\u001b[49m\u001b[43mvalues\u001b[49m\u001b[43m,\u001b[49m\u001b[43m \u001b[49m\u001b[43mdtype\u001b[49m\u001b[38;5;241;43m=\u001b[39;49m\u001b[43mdtype\u001b[49m\u001b[43m)\u001b[49m\n\u001b[1;32m    954\u001b[0m \u001b[38;5;28;01mif\u001b[39;00m using_copy_on_write() \u001b[38;5;129;01mand\u001b[39;00m astype_is_view(values\u001b[38;5;241m.\u001b[39mdtype, arr\u001b[38;5;241m.\u001b[39mdtype):\n\u001b[1;32m    955\u001b[0m     arr \u001b[38;5;241m=\u001b[39m arr\u001b[38;5;241m.\u001b[39mview()\n",
      "\u001b[0;31mValueError\u001b[0m: could not convert string to float: '  football insiders calling unexpectedly severe punishment national football league sentenced new england patriots quarterback tom brady year new york jets his role called deflategate scandal punishment drew howls protest patriots fans management calling harshest league history n.f.l. commissioner roger goodell defended decision necessary deterrent need send message league zero tolerance cheating goodell said believe year playing quarterback jets sends message loud clear brady reportedly state shock heard news his punishment later met reporters hastily called press conference frequently verge tears going fight decision fibre my brady said america nt force person play jets sports bar manhattan reaction impending arrival jets longtime nemesis muted jets fan observed look bradys dick nt deserve'"
     ]
    }
   ],
   "source": [
    "# obtain predictions on test data\n",
    "y_pred = model.predict(X_test)\n",
    "\n",
    "# obtain test f1 score\n",
    "f1_score(y_test, y_pred, average= 'macro')"
   ]
  },
  {
   "cell_type": "code",
   "execution_count": null,
   "id": "09e9e89a",
   "metadata": {},
   "outputs": [],
   "source": [
    "### Hyper Parameter tuning with GridSearchCV()"
   ]
  },
  {
   "cell_type": "code",
   "execution_count": null,
   "id": "676ff02f",
   "metadata": {},
   "outputs": [],
   "source": [
    "### Jian Hui end"
   ]
  },
  {
   "cell_type": "code",
   "execution_count": null,
   "id": "4f13bebb",
   "metadata": {},
   "outputs": [],
   "source": [
    "### <Group Member's name> start"
   ]
  },
  {
   "cell_type": "code",
   "execution_count": null,
   "id": "fa0b8584",
   "metadata": {},
   "outputs": [],
   "source": [
    "# Group member's code here"
   ]
  },
  {
   "cell_type": "code",
   "execution_count": null,
   "id": "5a7d8f15",
   "metadata": {},
   "outputs": [],
   "source": []
  },
  {
   "cell_type": "code",
   "execution_count": null,
   "id": "8843a535",
   "metadata": {},
   "outputs": [],
   "source": []
  },
  {
   "cell_type": "code",
   "execution_count": null,
   "id": "9e911876",
   "metadata": {},
   "outputs": [],
   "source": [
    "### <Group Member's name> end"
   ]
  },
  {
   "cell_type": "code",
   "execution_count": null,
   "id": "49ee8d4e",
   "metadata": {},
   "outputs": [],
   "source": []
  },
  {
   "cell_type": "code",
   "execution_count": null,
   "id": "2f121ca9",
   "metadata": {},
   "outputs": [],
   "source": []
  },
  {
   "cell_type": "code",
   "execution_count": null,
   "id": "510d5573",
   "metadata": {},
   "outputs": [],
   "source": []
  },
  {
   "cell_type": "code",
   "execution_count": null,
   "id": "5dd6dc9d",
   "metadata": {},
   "outputs": [],
   "source": []
  },
  {
   "cell_type": "code",
   "execution_count": null,
   "id": "55507397",
   "metadata": {},
   "outputs": [],
   "source": []
  },
  {
   "cell_type": "code",
   "execution_count": null,
   "id": "dc09d284",
   "metadata": {},
   "outputs": [],
   "source": []
  },
  {
   "cell_type": "code",
   "execution_count": null,
   "id": "99aab69b",
   "metadata": {},
   "outputs": [],
   "source": []
  },
  {
   "cell_type": "code",
   "execution_count": null,
   "id": "7aeb89dc",
   "metadata": {},
   "outputs": [],
   "source": []
  },
  {
   "cell_type": "code",
   "execution_count": null,
   "id": "2a87c63b",
   "metadata": {},
   "outputs": [],
   "source": []
  },
  {
   "cell_type": "code",
   "execution_count": null,
   "id": "5596eb93",
   "metadata": {},
   "outputs": [],
   "source": []
  },
  {
   "cell_type": "code",
   "execution_count": null,
   "id": "83a0c61a",
   "metadata": {},
   "outputs": [],
   "source": []
  }
 ],
 "metadata": {
  "kernelspec": {
   "display_name": "Python 3 (ipykernel)",
   "language": "python",
   "name": "python3"
  },
  "language_info": {
   "codemirror_mode": {
    "name": "ipython",
    "version": 3
   },
   "file_extension": ".py",
   "mimetype": "text/x-python",
   "name": "python",
   "nbconvert_exporter": "python",
   "pygments_lexer": "ipython3",
   "version": "3.10.13"
  }
 },
 "nbformat": 4,
 "nbformat_minor": 5
}
