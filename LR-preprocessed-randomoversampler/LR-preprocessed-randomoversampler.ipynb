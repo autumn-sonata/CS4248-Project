{
 "cells": [
  {
   "cell_type": "markdown",
   "id": "71c7e43e",
   "metadata": {},
   "source": [
    "## Setup"
   ]
  },
  {
   "cell_type": "code",
   "execution_count": 1,
   "id": "d5116044",
   "metadata": {},
   "outputs": [],
   "source": [
    "# RUN SETUP.SH BEFORE RUNNING THIS IPYNB\n",
    "# REQUIREMENTS FOR SETUP.SH:\n",
    "# python 3.11.8\n",
    "# pip 23.3.1\n",
    "\n",
    "import pandas as pd\n",
    "import pickle\n",
    "from sklearn.metrics import f1_score, precision_recall_fscore_support, accuracy_score\n",
    "from sklearn.metrics.pairwise import pairwise_distances\n",
    "from sklearn.naive_bayes import MultinomialNB # Naive Bayes Classifier\n",
    "from sklearn.linear_model import LogisticRegression # Logistic Regression Classifier\n",
    "from sklearn.ensemble import VotingClassifier, RandomForestClassifier\n",
    "from sklearn.model_selection import GridSearchCV\n",
    "from sklearn.model_selection import train_test_split\n",
    "from sklearn.pipeline import Pipeline\n",
    "from sklearn.feature_extraction.text import CountVectorizer\n",
    "from sklearn.feature_extraction.text import TfidfVectorizer\n",
    "from imblearn.over_sampling import ADASYN, RandomOverSampler\n",
    "from scipy.sparse import hstack, csr_matrix, save_npz, load_npz\n",
    "import spacy\n",
    "import re\n",
    "import numpy as np\n",
    "from spacytextblob.spacytextblob import SpacyTextBlob\n",
    "import matplotlib.pyplot as plt\n",
    "from sklearn.feature_selection import SelectPercentile, f_classif, mutual_info_classif\n",
    "import nltk\n",
    "from readability import Readability\n",
    "from sklearn.preprocessing import StandardScaler, MinMaxScaler, MaxAbsScaler\n",
    "from collections import Counter\n",
    "import csv\n"
   ]
  },
  {
   "cell_type": "code",
   "execution_count": 2,
   "id": "b81c927f",
   "metadata": {},
   "outputs": [],
   "source": [
    "SEED = 42 # seed random state for comparison, testing\n",
    "PARTITION_SIZE = 500 # Adjust lower if potato PC and higher if gaming rig or want results closer to actual\n",
    "enable_all_data = True # SET TO FALSE IF PREPROCESSING TAKES A LONG TIME (True = test on PARTITION_SIZE training and PARTITION_SIZE testing samples)\n",
    "enable_preprocessed_from_savefile = True\n",
    "enable_features_from_savefile = False\n",
    "enable_validation_data = False\n",
    "enable_model_from_savefile = False\n",
    "use_external_dataset = True"
   ]
  },
  {
   "cell_type": "markdown",
   "id": "c4f33710",
   "metadata": {},
   "source": [
    "## Pre-processing"
   ]
  },
  {
   "cell_type": "code",
   "execution_count": 3,
   "id": "0a8090b1",
   "metadata": {},
   "outputs": [],
   "source": [
    "df = pd.read_csv('../raw_data/fulltrain.csv', header=None, index_col = False)\n",
    "# df.head()"
   ]
  },
  {
   "cell_type": "code",
   "execution_count": 4,
   "id": "641253f7",
   "metadata": {},
   "outputs": [],
   "source": [
    "df = df if enable_all_data else df.sample(n=PARTITION_SIZE, random_state=SEED)\n",
    "\n",
    "X_train = df.iloc[:, 1] \n",
    "y_train = df.iloc[:, 0]\n",
    "\n",
    "# print(X_train)\n",
    "# print(y_train)\n",
    "\n",
    "# print(len(X_train))\n",
    "# print(len(y_train))\n",
    "\n",
    "# y_train.value_counts()"
   ]
  },
  {
   "cell_type": "code",
   "execution_count": 5,
   "id": "5c77bd4f",
   "metadata": {},
   "outputs": [],
   "source": [
    "personal_pronouns = [\"i\", \"me\", \"mine\", \"my\", \"myself\", \"our\", \"ours\", \"we\", \\\n",
    "                     \"their\", \"you\", \"your\", \"he\", \"she\", \"it\", \"its\", \"we\", \"they\", \"me\", \\\n",
    "                     \"him\", \"her\", \"us\", \"them\", \"his\", \"hers\", \"herself\", \\\n",
    "                        \"himself\", \"itself\", \"themselves\", \"ourselves\", \"yourself\", \"yourselves\"]\n",
    "spacy_preprocess_model = spacy.load(\"en_core_web_lg\")\n",
    "spacy_preprocess_model.Defaults.stop_words -= set(personal_pronouns)"
   ]
  },
  {
   "cell_type": "code",
   "execution_count": 6,
   "id": "d3e2d9b9",
   "metadata": {},
   "outputs": [],
   "source": [
    "# Processing data: tokenize the text for NLP Machine Learning\n",
    "# Case-folding (lowercase), Stopword removal, Punctuation removal\n",
    "\n",
    "def preprocess(sentence):\n",
    "    '''\n",
    "    Preprocessing strategies:\n",
    "    1) Tokenization\n",
    "    2) Punctuation removal\n",
    "    3) Stopword removal\n",
    "    4) Lowercase\n",
    "    '''\n",
    "    tokens = spacy_preprocess_model(sentence)\n",
    "    ls_sentence = [token.text.lower() for token in tokens if not (token.is_punct and token not in [\"!\", \"?\"]) and not token.is_stop]\n",
    "    return ls_sentence"
   ]
  },
  {
   "cell_type": "code",
   "execution_count": 7,
   "id": "dd48be20",
   "metadata": {},
   "outputs": [],
   "source": [
    "# To be used by features for feature extraction:\n",
    "if not enable_preprocessed_from_savefile:\n",
    "    X_train_ls = X_train.apply(preprocess)\n",
    "    X_train_sentence = X_train_ls.apply(lambda sentence: ' '.join(sentence))\n",
    "    X_train = X_train_sentence\n",
    "\n",
    "    # Save pre-processed data\n",
    "    compression_opts = dict(method='zip', archive_name='strip_punct_stop_lower.csv')\n",
    "    X_train_sentence.to_csv('strip_punct_stop_lower.zip', index=False, compression=compression_opts)\n",
    "else:\n",
    "    # quickload pre-processed data\n",
    "    # replace 'raw_data/*.csv' with .csv file containing preprocessed data\n",
    "    X_train = pd.read_csv('strip_punct_stop_lower.csv', index_col=False).iloc[:, 0]\n",
    "    # X_train.head()"
   ]
  },
  {
   "cell_type": "markdown",
   "id": "704b2070",
   "metadata": {},
   "source": [
    "### Train-Validation Split"
   ]
  },
  {
   "cell_type": "code",
   "execution_count": 8,
   "id": "8b08f33c",
   "metadata": {},
   "outputs": [],
   "source": [
    "if enable_validation_data:\n",
    "    X_train, X_val, y_train, y_val = train_test_split(X_train, y_train, test_size=0.2, random_state=SEED)"
   ]
  },
  {
   "cell_type": "markdown",
   "id": "6c04d7d4",
   "metadata": {},
   "source": [
    "### Feature analysis"
   ]
  },
  {
   "cell_type": "code",
   "execution_count": 9,
   "id": "e6bd00ca",
   "metadata": {},
   "outputs": [],
   "source": [
    "def count_analysis_bar(X, y, feature_name):\n",
    "    unique_y = np.unique(y)\n",
    "    fig, axs = plt.subplots(len(unique_y), 1, figsize=(8, len(unique_y) * 4))\n",
    "    for i in unique_y:\n",
    "        indices = np.where(y == i)[0]\n",
    "        counts_i = X[indices]\n",
    "        unique_vals, counts = np.unique(counts_i, return_counts=True)\n",
    "        axs[i-1].bar(unique_vals, counts)\n",
    "        axs[i-1].set_xlabel(f'{feature_name}')\n",
    "        axs[i-1].set_ylabel(f'Frequency of {feature_name}')\n",
    "        axs[i-1].set_title(f'Distribution of {feature_name} for class {i}')\n",
    "\n",
    "    plt.tight_layout()\n",
    "    plt.savefig(f'plots/{feature_name}_analysis_plot.png')\n",
    "\n",
    "def count_analysis_scatter(X, y, feature_name):\n",
    "    unique_y = np.unique(y)\n",
    "    fig, axs = plt.subplots(len(unique_y), 1, figsize=(8, len(unique_y) * 4))\n",
    "    for i in unique_y:\n",
    "        indices = np.where(y == i)[0]\n",
    "        counts_i = X[indices]\n",
    "        unique_vals, counts = np.unique(counts_i, return_counts=True)\n",
    "        axs[i-1].scatter(unique_vals, counts)\n",
    "        axs[i-1].set_xlabel(f'{feature_name}')\n",
    "        axs[i-1].set_ylabel(f'Frequency of {feature_name}')\n",
    "        axs[i-1].set_title(f'Distribution of {feature_name} for class {i}')\n",
    "\n",
    "    plt.tight_layout()\n",
    "    plt.savefig(f'plots/{feature_name}_analysis_plot.png')\n",
    "\n",
    "def count_analysis_boxplot(X, y, feature_name):\n",
    "    unique_y = np.unique(y)\n",
    "    fig, axs = plt.subplots(len(unique_y), 1, figsize=(8, len(unique_y) * 4))\n",
    "    for i in unique_y:\n",
    "        indices = np.where(y == i)[0]\n",
    "        counts_i = X[indices]\n",
    "        unique_vals = np.unique(counts_i)\n",
    "        axs[i-1].boxplot(unique_vals)\n",
    "        axs[i-1].set_title(f'Distribution of {feature_name} for class {i}')\n",
    "\n",
    "    plt.tight_layout()\n",
    "    plt.savefig(f'plots/{feature_name}_analysis_plot.png')"
   ]
  },
  {
   "cell_type": "markdown",
   "id": "a07ca07b",
   "metadata": {},
   "source": [
    "### Feature Engineering"
   ]
  },
  {
   "cell_type": "code",
   "execution_count": 10,
   "id": "c3095317",
   "metadata": {},
   "outputs": [],
   "source": [
    "# Feature set:\n",
    "# 1) TF-IDF\n",
    "tfidf_vectorizer = TfidfVectorizer(ngram_range=(1, 2), sublinear_tf=True)\n",
    "X_train_tfidf = tfidf_vectorizer.fit_transform(X_train)"
   ]
  },
  {
   "cell_type": "code",
   "execution_count": 11,
   "id": "ff0f8f1b",
   "metadata": {},
   "outputs": [],
   "source": [
    "# Consolidation of feature sets into single vector:\n",
    "X_train_filename = \"tfidf\"\n",
    "if enable_features_from_savefile:\n",
    "    # Load features as sparse matrix (Download file from Google Drive)\n",
    "    X_train = load_npz(f\"{X_train_filename}.npz\")\n",
    "else:\n",
    "    X_train = hstack([X_train_tfidf])\n",
    "    save_npz(f\"{X_train_filename}.npz\", X_train)"
   ]
  },
  {
   "cell_type": "markdown",
   "id": "f945981a",
   "metadata": {},
   "source": [
    "### Scaler"
   ]
  },
  {
   "cell_type": "code",
   "execution_count": 12,
   "id": "16011090",
   "metadata": {},
   "outputs": [],
   "source": [
    "# scaler = MaxAbsScaler() # Sparse matrix\n",
    "# X_train = scaler.fit_transform(X_train)"
   ]
  },
  {
   "cell_type": "markdown",
   "id": "a92f0f9a",
   "metadata": {},
   "source": [
    "### Feature selection: SelectPercentile"
   ]
  },
  {
   "cell_type": "code",
   "execution_count": 13,
   "id": "10c7dfae",
   "metadata": {},
   "outputs": [],
   "source": [
    "# Take top 10% of features by scores\n",
    "# feature_selector = SelectPercentile(f_classif)\n",
    "# X_train = feature_selector.fit_transform(X_train, y_train)"
   ]
  },
  {
   "cell_type": "markdown",
   "id": "02ce5211",
   "metadata": {},
   "source": [
    "### Oversampling"
   ]
  },
  {
   "cell_type": "code",
   "execution_count": 14,
   "id": "a7b26eb2",
   "metadata": {},
   "outputs": [],
   "source": [
    "# RandomOverSampler\n",
    "ros = RandomOverSampler(random_state=SEED)\n",
    "X_train, y_train = ros.fit_resample(X_train, y_train)"
   ]
  },
  {
   "cell_type": "markdown",
   "id": "83844d2d",
   "metadata": {},
   "source": [
    "## Models"
   ]
  },
  {
   "cell_type": "markdown",
   "id": "3b89589e",
   "metadata": {},
   "source": [
    "### Logistic Regression Model [LogisticRegression]"
   ]
  },
  {
   "cell_type": "code",
   "execution_count": 15,
   "id": "e4879294",
   "metadata": {},
   "outputs": [],
   "source": [
    "model_path = 'LogisticRegression-preprocessed-tfidf-randomoversampler.pkl'\n",
    "if not enable_model_from_savefile:\n",
    "    model = LogisticRegression(solver = 'saga', max_iter=3000, random_state=SEED).fit(X_train, y_train)\n",
    "    # Save model\n",
    "    with open(model_path, 'wb') as f:\n",
    "        pickle.dump(model, f)\n",
    "else:\n",
    "    # Load model\n",
    "    with open(model_path, 'rb') as f:\n",
    "        model = pickle.load(f)"
   ]
  },
  {
   "cell_type": "markdown",
   "id": "4ac9bd3c",
   "metadata": {},
   "source": [
    "## Validation"
   ]
  },
  {
   "cell_type": "code",
   "execution_count": 16,
   "id": "b4ae2fd2",
   "metadata": {},
   "outputs": [],
   "source": [
    "# Apply feature engineering on X_val\n",
    "if enable_validation_data:\n",
    "    X_val_tfidf = tfidf_vectorizer.transform(X_val)"
   ]
  },
  {
   "cell_type": "code",
   "execution_count": 17,
   "id": "d1e6b93d",
   "metadata": {},
   "outputs": [],
   "source": [
    "# Consolidation of feature sets:\n",
    "if enable_validation_data:\n",
    "    X_val_final = hstack([X_val_tfidf])\n",
    "    # X_val_final = scaler.transform(X_val_final)\n",
    "    # X_val_final = feature_selector.transform(X_val_final)"
   ]
  },
  {
   "cell_type": "code",
   "execution_count": 18,
   "id": "8fe0b24e",
   "metadata": {},
   "outputs": [],
   "source": [
    "# # obtain predictions on validation data\n",
    "if enable_validation_data:\n",
    "    y_val_predicted = model.predict(X_val_final)\n",
    "\n",
    "    # evaluate model training metrics with macro f1 score\n",
    "    f1_score(y_val, y_val_predicted, average='macro')"
   ]
  },
  {
   "cell_type": "markdown",
   "id": "db8997e6",
   "metadata": {},
   "source": [
    "## Test Data"
   ]
  },
  {
   "cell_type": "code",
   "execution_count": 19,
   "id": "47293816",
   "metadata": {},
   "outputs": [
    {
     "name": "stdout",
     "output_type": "stream",
     "text": [
      "   1  \\\n",
      "0  1   \n",
      "1  1   \n",
      "2  1   \n",
      "3  1   \n",
      "4  1   \n",
      "\n",
      "  DOGS generally fall out within less than half a minute of befriending each other, it has been claimed.\\n\\nBorder collie Tom Logan expressed frustration at being unable to make a new acquaintance in the park without it suddenly turning hostile for no apparent reason.\\n\\nLogan said: “The first 15 seconds of meeting another dog are always great. Loads of tail wagging, furtive sniffing and running around in circles.\\n\\n“Then just as it all seems to be going great – bam – we’re trying to tear each others throats out.\\n\\n“Every time some invisible boundary gets crossed. I don’t know, it must be some hierarchy thing.”\\n\\nEnglish bulldog Emma Bradford said: “Last week I met this Yorkshire terrier and at first we were getting along famously.\\n\\n“But shit got very weird, very quickly. It was like we experienced every type of emotion – fear, hope, love, lust, hatred – in under a minute.\\n\\n“We ended up being dragged apart. I kept looking back, straining at my leash and growling, desperate to bite his legs off.\\n\\n“I don’t know why this always happens. I’m fine with kids and cats.”  \n",
      "0  Embarrassment reigned at the American Israel P...                                                                                                                                                                                                                                                                                                                                                                                                                                                                                                                                                                                                                                                                                                                                                                                                                                                                                                                                                                                                                                                                              \n",
      "1  #Donald Trump was the underdog as he trailed t...                                                                                                                                                                                                                                                                                                                                                                                                                                                                                                                                                                                                                                                                                                                                                                                                                                                                                                                                                                                                                                                                              \n",
      "2  HUNDREDS of thousands of people descended onto...                                                                                                                                                                                                                                                                                                                                                                                                                                                                                                                                                                                                                                                                                                                                                                                                                                                                                                                                                                                                                                                                              \n",
      "3  WASHINGTON—In an effort to streamline the proc...                                                                                                                                                                                                                                                                                                                                                                                                                                                                                                                                                                                                                                                                                                                                                                                                                                                                                                                                                                                                                                                                              \n",
      "4  When their son, Geoff, passed away, Mary and S...                                                                                                                                                                                                                                                                                                                                                                                                                                                                                                                                                                                                                                                                                                                                                                                                                                                                                                                                                                                                                                                                              \n"
     ]
    }
   ],
   "source": [
    "# TEST DATA \n",
    "if use_external_dataset:\n",
    "    test_df = pd.read_csv('../external-dataset/opensources_fakenewscorpus_balancedtest.csv', index_col = False)\n",
    "else:\n",
    "    test_df = pd.read_csv('../raw_data/balancedtest.csv', index_col = False)\n",
    "    test_df = test_df if enable_all_data else test_df.sample(PARTITION_SIZE, random_state=SEED)\n",
    "\n",
    "# print(test_df)\n",
    "print(test_df.head())"
   ]
  },
  {
   "cell_type": "code",
   "execution_count": 20,
   "id": "bd783554",
   "metadata": {},
   "outputs": [],
   "source": [
    "X_test = test_df.iloc[:, 1]\n",
    "y_test = test_df.iloc[:, 0]\n",
    "\n",
    "# print(X_test.head())\n",
    "# print(y_test.head())"
   ]
  },
  {
   "cell_type": "markdown",
   "id": "0863f80a",
   "metadata": {},
   "source": [
    "### Feature Engineering (Test Data)"
   ]
  },
  {
   "cell_type": "code",
   "execution_count": 21,
   "id": "9d0afa06",
   "metadata": {},
   "outputs": [],
   "source": [
    "# Apply feature engineering on X_test\n",
    "X_test_tfidf = tfidf_vectorizer.transform(X_test)"
   ]
  },
  {
   "cell_type": "code",
   "execution_count": 22,
   "id": "891b1b5c",
   "metadata": {},
   "outputs": [],
   "source": [
    "# Consolidation of feature transformations into single vector\n",
    "X_test_final = hstack([X_test_tfidf])\n",
    "# X_test_final = scaler.transform(X_test_final)\n",
    "# X_test_final = feature_selector.transform(X_test_final)"
   ]
  },
  {
   "cell_type": "markdown",
   "id": "aa1dfc81",
   "metadata": {},
   "source": [
    "### Metrics"
   ]
  },
  {
   "cell_type": "markdown",
   "id": "1da5c93f",
   "metadata": {},
   "source": [
    "#### Accuracy, precision, recall, F1"
   ]
  },
  {
   "cell_type": "code",
   "execution_count": 23,
   "id": "e8f9170c",
   "metadata": {},
   "outputs": [],
   "source": [
    "# obtain predictions on test data\n",
    "y_pred = model.predict(X_test_final)\n",
    "\n",
    "# evaluate model training metrics with macro f1 score\n",
    "test_precision, test_recall, test_f1, _ = precision_recall_fscore_support(y_test, y_pred, average='macro')\n",
    "test_accuracy = accuracy_score(y_test, y_pred)"
   ]
  },
  {
   "cell_type": "code",
   "execution_count": 24,
   "id": "56999da9",
   "metadata": {},
   "outputs": [
    {
     "name": "stdout",
     "output_type": "stream",
     "text": [
      "Test Accuracy: 0.41854031,\tTest Precision: 0.40406246,\tTest Recall: 0.41854124,\tTest F1: 0.38695063\n",
      "Class 0:\tTest Precision: 0.60482501,\tTest Recall: 0.47469831,\tTest f1: 0.53191887\n",
      "Class 1:\tTest Precision: 0.14766484,\tTest Recall: 0.02866667,\tTest f1: 0.04801251\n",
      "Class 2:\tTest Precision: 0.29546969,\tTest Recall: 0.59133333,\tTest f1: 0.39404709\n",
      "Class 3:\tTest Precision: 0.56829029,\tTest Recall: 0.57946667,\tTest f1: 0.57382406\n"
     ]
    },
    {
     "data": {
      "text/plain": [
       "3    30020\n",
       "4    15295\n",
       "1    11772\n",
       "2     2912\n",
       "Name: count, dtype: int64"
      ]
     },
     "execution_count": 24,
     "metadata": {},
     "output_type": "execute_result"
    }
   ],
   "source": [
    "print(f'Test Accuracy: {test_accuracy:.8f},\\tTest Precision: {test_precision:.8f},\\tTest Recall: {test_recall:.8f},\\tTest F1: {test_f1:.8f}')\n",
    "\n",
    "class_test_precision, class_test_recall, class_test_f1, class_ = precision_recall_fscore_support(y_test, y_pred)\n",
    "for i in range(4):\n",
    "    print(f'Class {i}:\\tTest Precision: {class_test_precision[i]:.8f},\\tTest Recall: {class_test_recall[i]:.8f},\\tTest f1: {class_test_f1[i]:.8f}')\n",
    "\n",
    "pd.Series(y_pred).value_counts()"
   ]
  },
  {
   "cell_type": "markdown",
   "id": "11302a47",
   "metadata": {},
   "source": [
    "## Tackling Generalizability"
   ]
  },
  {
   "cell_type": "markdown",
   "id": "e0a9f54b",
   "metadata": {},
   "source": [
    "#### Feature selection percentage - coefficients for each feature"
   ]
  },
  {
   "cell_type": "code",
   "execution_count": 25,
   "id": "d997a7a9",
   "metadata": {},
   "outputs": [
    {
     "data": {
      "text/plain": [
       "<Figure size 640x480 with 0 Axes>"
      ]
     },
     "metadata": {},
     "output_type": "display_data"
    },
    {
     "data": {
      "text/plain": [
       "<Figure size 1000x1000 with 0 Axes>"
      ]
     },
     "metadata": {},
     "output_type": "display_data"
    },
    {
     "data": {
      "text/plain": [
       "<Figure size 1000x1000 with 0 Axes>"
      ]
     },
     "metadata": {},
     "output_type": "display_data"
    },
    {
     "data": {
      "text/plain": [
       "<Figure size 1000x1000 with 0 Axes>"
      ]
     },
     "metadata": {},
     "output_type": "display_data"
    },
    {
     "data": {
      "image/png": "[encoded data removed]",
      "text/plain": [
       "<Figure size 1000x1000 with 1 Axes>"
      ]
     },
     "metadata": {},
     "output_type": "display_data"
    }
   ],
   "source": [
    "# Get all column names for features\n",
    "feature_names = np.empty(0)\n",
    "feature_names = np.concatenate((feature_names, tfidf_vectorizer.get_feature_names_out()))\n",
    "\n",
    "# Get coefficients for Logistic Regression\n",
    "labels_coefficients = model.coef_\n",
    "NUM_HIGHEST_ABS_COEFF = 10\n",
    "row = 1\n",
    "for label_coefficients in labels_coefficients:\n",
    "    plt.clf()\n",
    "    plt.figure(figsize=(10, 10))\n",
    "    label_coefficients_abs = np.abs(label_coefficients)\n",
    "    top_indices = np.argsort(label_coefficients_abs)[-NUM_HIGHEST_ABS_COEFF:]\n",
    "    top_feature_names = feature_names[top_indices]\n",
    "    top_coeffs = label_coefficients[top_indices]\n",
    "    plt.barh(top_feature_names, top_coeffs)\n",
    "    plt.savefig(f\"Best-features-coeff-label-{row}.png\")\n",
    "    row += 1\n"
   ]
  },
  {
   "cell_type": "markdown",
   "id": "84e943a9",
   "metadata": {},
   "source": [
    "#### Rejection of classification - rejection by probability threshold"
   ]
  },
  {
   "cell_type": "code",
   "execution_count": 26,
   "id": "64252bc5",
   "metadata": {},
   "outputs": [
    {
     "data": {
      "image/png": "[encoded data removed]",
      "text/plain": [
       "<Figure size 640x480 with 1 Axes>"
      ]
     },
     "metadata": {},
     "output_type": "display_data"
    }
   ],
   "source": [
    "REJECTION_PERCENTAGE = 0.2 # percentage of examples that are rejected \n",
    "\n",
    "y_pred_prob = model.predict_proba(X_test_final)\n",
    "y_pred_prob_max = np.sort(np.max(y_pred_prob, axis=1))\n",
    "x_range = np.arange(1, len(y_pred_prob_max) + 1) / len(y_pred_prob_max)\n",
    "\n",
    "rejection_index = int(len(y_pred_prob_max) * REJECTION_PERCENTAGE)\n",
    "labelled_prediction_rejection_prob = y_pred_prob_max[rejection_index]\n",
    "\n",
    "plt.plot(x_range, y_pred_prob_max, color='b')\n",
    "plt.axvline(REJECTION_PERCENTAGE, color='r', linestyle='--', linewidth=2)\n",
    "plt.scatter(REJECTION_PERCENTAGE, labelled_prediction_rejection_prob, color='green', label=f'Intersection: ({REJECTION_PERCENTAGE}, {labelled_prediction_rejection_prob:.2f})')\n",
    "plt.legend()\n",
    "plt.xlabel('Percentage of test examples below corresponding labelled prediction probability')\n",
    "plt.ylabel('Probability of labelled prediction')\n",
    "plt.title('Cumulative distribution of labelled prediction probabilities')\n",
    "plt.savefig(\"rejection-probability-threshold-preprocessed-randomoversampler.png\")\n",
    "plt.show()"
   ]
  },
  {
   "cell_type": "markdown",
   "id": "5c59790b",
   "metadata": {},
   "source": [
    "#### Rejection of classification - rejection by distance in document embedding space"
   ]
  },
  {
   "cell_type": "code",
   "execution_count": 27,
   "id": "c963b416",
   "metadata": {},
   "outputs": [
    {
     "data": {
      "image/png": "[encoded data removed]",
      "text/plain": [
       "<Figure size 1000x1000 with 1 Axes>"
      ]
     },
     "metadata": {},
     "output_type": "display_data"
    }
   ],
   "source": [
    "# 1) Filter by y_train\n",
    "# 2) mean on each column for each labels \"centroid\"\n",
    "# 3) Find distance from \"centroid\" to current\n",
    "unique_labels = np.unique(y_train)\n",
    "mean_labels = np.zeros((len(unique_labels), X_train.shape[1]))\n",
    "\n",
    "row = 0\n",
    "for label in unique_labels:\n",
    "    indices = y_train.index[y_train == label]\n",
    "    points = X_train[indices]\n",
    "    label_mean_point = points.mean(axis=0)\n",
    "    mean_labels[row] = label_mean_point\n",
    "    row += 1\n",
    "    \n",
    "distances = pairwise_distances(X_test_final, mean_labels, metric='euclidean')\n",
    "min_distances = np.min(distances, axis=1)\n",
    "min_distances = min_distances.flatten()\n",
    "min_distances.sort()\n",
    "\n",
    "x_range = np.arange(1, len(min_distances) + 1) / len(min_distances)\n",
    "rejection_index = int(len(min_distances) * (1 - REJECTION_PERCENTAGE))\n",
    "euc_dist_rejection_boundary = min_distances[rejection_index]\n",
    "\n",
    "plt.figure(figsize=(10, 10))\n",
    "plt.axvline(1 - REJECTION_PERCENTAGE, color='r', linestyle='--', linewidth=2)\n",
    "plt.scatter(1 - REJECTION_PERCENTAGE, euc_dist_rejection_boundary, color='green', label=f'Intersection: ({1 - REJECTION_PERCENTAGE}, {euc_dist_rejection_boundary:.2f})')\n",
    "plt.legend()\n",
    "plt.plot(x_range, min_distances, color='b')\n",
    "plt.xlabel('Percentage of test examples below corresponding euclidean distance to closest centroid')\n",
    "plt.ylabel('Euclidean distance of test example to closest label centroid in feature embedding space')\n",
    "plt.savefig(\"rejection-euclidean-distance-preprocessed-randomoversampler.png\")\n",
    "plt.show()"
   ]
  }
 ],
 "metadata": {
  "kernelspec": {
   "display_name": "Python 3 (ipykernel)",
   "language": "python",
   "name": "python3"
  },
  "language_info": {
   "codemirror_mode": {
    "name": "ipython",
    "version": 3
   },
   "file_extension": ".py",
   "mimetype": "text/x-python",
   "name": "python",
   "nbconvert_exporter": "python",
   "pygments_lexer": "ipython3",
   "version": "3.11.8"
  }
 },
 "nbformat": 4,
 "nbformat_minor": 5
}
